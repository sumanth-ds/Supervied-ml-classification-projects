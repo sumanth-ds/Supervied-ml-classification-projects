{
 "cells": [
  {
   "cell_type": "markdown",
   "id": "72dddf06",
   "metadata": {},
   "source": [
    "<img src=\"https://www.bankrate.com/2020/04/13101723/GuideToHotelCancellationsAndEliteStatus.png\" />"
   ]
  },
  {
   "cell_type": "markdown",
   "id": "c1bd3c4d",
   "metadata": {},
   "source": [
    "## Problem Statement\n",
    "The goal is to create a predictive model that can accurately determine whether a hotel booking will be canceled or not. By analyzing historical data, we aim to identify key factors that contribute to booking cancellations. This model can be valuable for both travelers and hotel proprietors.\n",
    "\n",
    "## Dataset Details\n",
    "We'll be working with a dataset that contains booking information for a city hotel and a resort hotel in Portugal. Here are some essential details about the dataset:\n",
    "\n",
    "1. **Hotel Types**:\n",
    "   - **Resort Hotel (H1)**: A hotel located in a resort area.\n",
    "   - **City Hotel (H2)**: A hotel situated in an urban setting.\n",
    "\n",
    "2. **Target Variable**:\n",
    "   - **is_canceled**: A binary value indicating whether the booking was canceled (1) or not (0).\n",
    "\n",
    "3. **Features**:\n",
    "   - **lead_time**: The number of days between booking entry and arrival date.\n",
    "   - **arrival_date_year**: The year of the arrival date.\n",
    "   - **arrival_date_month**: The month when guests arrive.\n",
    "   - **arrival_date_week_number**: The week number of the year for the arrival date.\n",
    "   - **arrival_date_day_of_month**: The day of the month when guests arrive.\n",
    "   - **stays_in_weekend_nights**: Number of weekend nights (Saturday or Sunday) the guest stayed or booked.\n",
    "   - **stays_in_week_nights**: Number of weekdays stay at night (Monday to Friday) in the hotel.\n",
    "   - **adults**, **children**, **babies**: Number of guests (adults, children, and babies).\n",
    "   - **meal**: Type of meal booked.\n",
    "   - **country**: Country of origin.\n",
    "   - **market_segment**: Channel through which hotels were booked.\n",
    "   - **distribution_channel**: Booking distribution channel.\n",
    "   - **is_repeated_guest**: Indicates if the booking name is from a repeated guest (1) or not (0).\n",
    "   - **previous_cancellations**: Whether a repeated guest has canceled a booking before.\n",
    "   - **previous_bookings_not_canceled**: Whether a repeated guest has not canceled a booking before.\n",
    "   - **reserved_room_type**: Code for the reserved room type (anonymized).\n",
    "   - **assigned_room_type**: Code for the room type assigned to the booking (anonymized).\n",
    "\n",
    "## Dataset Source\n",
    "The dataset used for this project can be found on Kaggle: [Hotel Booking Demand Dataset](https://www.kaggle.com/jessemostipak/hotel-booking-demand).\n",
    "\n"
   ]
  },
  {
   "cell_type": "markdown",
   "id": "dfa2c515",
   "metadata": {},
   "source": [
    "# Importing libraries"
   ]
  },
  {
   "cell_type": "code",
   "execution_count": 1,
   "id": "9bb7dd96",
   "metadata": {},
   "outputs": [],
   "source": [
    "import pandas as pd\n",
    "import numpy as np\n",
    "import seaborn as sns\n",
    "import datetime\n",
    "import matplotlib.pyplot as plt\n",
    "import warnings as wr\n",
    "wr.filterwarnings(\"ignore\")"
   ]
  },
  {
   "cell_type": "markdown",
   "id": "fc3d8d91",
   "metadata": {},
   "source": [
    "## Load Dataset "
   ]
  },
  {
   "cell_type": "code",
   "execution_count": 2,
   "id": "72ce1dde",
   "metadata": {},
   "outputs": [
    {
     "data": {
      "text/html": [
       "<div>\n",
       "<style scoped>\n",
       "    .dataframe tbody tr th:only-of-type {\n",
       "        vertical-align: middle;\n",
       "    }\n",
       "\n",
       "    .dataframe tbody tr th {\n",
       "        vertical-align: top;\n",
       "    }\n",
       "\n",
       "    .dataframe thead th {\n",
       "        text-align: right;\n",
       "    }\n",
       "</style>\n",
       "<table border=\"1\" class=\"dataframe\">\n",
       "  <thead>\n",
       "    <tr style=\"text-align: right;\">\n",
       "      <th></th>\n",
       "      <th>hotel</th>\n",
       "      <th>is_canceled</th>\n",
       "      <th>lead_time</th>\n",
       "      <th>arrival_date_year</th>\n",
       "      <th>arrival_date_month</th>\n",
       "      <th>arrival_date_week_number</th>\n",
       "      <th>arrival_date_day_of_month</th>\n",
       "      <th>stays_in_weekend_nights</th>\n",
       "      <th>stays_in_week_nights</th>\n",
       "      <th>adults</th>\n",
       "      <th>children</th>\n",
       "      <th>babies</th>\n",
       "      <th>meal</th>\n",
       "      <th>country</th>\n",
       "      <th>market_segment</th>\n",
       "      <th>distribution_channel</th>\n",
       "      <th>is_repeated_guest</th>\n",
       "      <th>previous_cancellations</th>\n",
       "      <th>previous_bookings_not_canceled</th>\n",
       "      <th>reserved_room_type</th>\n",
       "      <th>assigned_room_type</th>\n",
       "      <th>booking_changes</th>\n",
       "      <th>deposit_type</th>\n",
       "      <th>agent</th>\n",
       "      <th>company</th>\n",
       "      <th>days_in_waiting_list</th>\n",
       "      <th>customer_type</th>\n",
       "      <th>adr</th>\n",
       "      <th>required_car_parking_spaces</th>\n",
       "      <th>total_of_special_requests</th>\n",
       "      <th>reservation_status</th>\n",
       "      <th>reservation_status_date</th>\n",
       "    </tr>\n",
       "  </thead>\n",
       "  <tbody>\n",
       "    <tr>\n",
       "      <th>0</th>\n",
       "      <td>Resort Hotel</td>\n",
       "      <td>0</td>\n",
       "      <td>342</td>\n",
       "      <td>2015</td>\n",
       "      <td>July</td>\n",
       "      <td>27</td>\n",
       "      <td>1</td>\n",
       "      <td>0</td>\n",
       "      <td>0</td>\n",
       "      <td>2</td>\n",
       "      <td>0.0</td>\n",
       "      <td>0</td>\n",
       "      <td>BB</td>\n",
       "      <td>PRT</td>\n",
       "      <td>Direct</td>\n",
       "      <td>Direct</td>\n",
       "      <td>0</td>\n",
       "      <td>0</td>\n",
       "      <td>0</td>\n",
       "      <td>C</td>\n",
       "      <td>C</td>\n",
       "      <td>3</td>\n",
       "      <td>No Deposit</td>\n",
       "      <td>NaN</td>\n",
       "      <td>NaN</td>\n",
       "      <td>0</td>\n",
       "      <td>Transient</td>\n",
       "      <td>0.0</td>\n",
       "      <td>0</td>\n",
       "      <td>0</td>\n",
       "      <td>Check-Out</td>\n",
       "      <td>2015-07-01</td>\n",
       "    </tr>\n",
       "    <tr>\n",
       "      <th>1</th>\n",
       "      <td>Resort Hotel</td>\n",
       "      <td>0</td>\n",
       "      <td>737</td>\n",
       "      <td>2015</td>\n",
       "      <td>July</td>\n",
       "      <td>27</td>\n",
       "      <td>1</td>\n",
       "      <td>0</td>\n",
       "      <td>0</td>\n",
       "      <td>2</td>\n",
       "      <td>0.0</td>\n",
       "      <td>0</td>\n",
       "      <td>BB</td>\n",
       "      <td>PRT</td>\n",
       "      <td>Direct</td>\n",
       "      <td>Direct</td>\n",
       "      <td>0</td>\n",
       "      <td>0</td>\n",
       "      <td>0</td>\n",
       "      <td>C</td>\n",
       "      <td>C</td>\n",
       "      <td>4</td>\n",
       "      <td>No Deposit</td>\n",
       "      <td>NaN</td>\n",
       "      <td>NaN</td>\n",
       "      <td>0</td>\n",
       "      <td>Transient</td>\n",
       "      <td>0.0</td>\n",
       "      <td>0</td>\n",
       "      <td>0</td>\n",
       "      <td>Check-Out</td>\n",
       "      <td>2015-07-01</td>\n",
       "    </tr>\n",
       "    <tr>\n",
       "      <th>2</th>\n",
       "      <td>Resort Hotel</td>\n",
       "      <td>0</td>\n",
       "      <td>7</td>\n",
       "      <td>2015</td>\n",
       "      <td>July</td>\n",
       "      <td>27</td>\n",
       "      <td>1</td>\n",
       "      <td>0</td>\n",
       "      <td>1</td>\n",
       "      <td>1</td>\n",
       "      <td>0.0</td>\n",
       "      <td>0</td>\n",
       "      <td>BB</td>\n",
       "      <td>GBR</td>\n",
       "      <td>Direct</td>\n",
       "      <td>Direct</td>\n",
       "      <td>0</td>\n",
       "      <td>0</td>\n",
       "      <td>0</td>\n",
       "      <td>A</td>\n",
       "      <td>C</td>\n",
       "      <td>0</td>\n",
       "      <td>No Deposit</td>\n",
       "      <td>NaN</td>\n",
       "      <td>NaN</td>\n",
       "      <td>0</td>\n",
       "      <td>Transient</td>\n",
       "      <td>75.0</td>\n",
       "      <td>0</td>\n",
       "      <td>0</td>\n",
       "      <td>Check-Out</td>\n",
       "      <td>2015-07-02</td>\n",
       "    </tr>\n",
       "    <tr>\n",
       "      <th>3</th>\n",
       "      <td>Resort Hotel</td>\n",
       "      <td>0</td>\n",
       "      <td>13</td>\n",
       "      <td>2015</td>\n",
       "      <td>July</td>\n",
       "      <td>27</td>\n",
       "      <td>1</td>\n",
       "      <td>0</td>\n",
       "      <td>1</td>\n",
       "      <td>1</td>\n",
       "      <td>0.0</td>\n",
       "      <td>0</td>\n",
       "      <td>BB</td>\n",
       "      <td>GBR</td>\n",
       "      <td>Corporate</td>\n",
       "      <td>Corporate</td>\n",
       "      <td>0</td>\n",
       "      <td>0</td>\n",
       "      <td>0</td>\n",
       "      <td>A</td>\n",
       "      <td>A</td>\n",
       "      <td>0</td>\n",
       "      <td>No Deposit</td>\n",
       "      <td>304.0</td>\n",
       "      <td>NaN</td>\n",
       "      <td>0</td>\n",
       "      <td>Transient</td>\n",
       "      <td>75.0</td>\n",
       "      <td>0</td>\n",
       "      <td>0</td>\n",
       "      <td>Check-Out</td>\n",
       "      <td>2015-07-02</td>\n",
       "    </tr>\n",
       "    <tr>\n",
       "      <th>4</th>\n",
       "      <td>Resort Hotel</td>\n",
       "      <td>0</td>\n",
       "      <td>14</td>\n",
       "      <td>2015</td>\n",
       "      <td>July</td>\n",
       "      <td>27</td>\n",
       "      <td>1</td>\n",
       "      <td>0</td>\n",
       "      <td>2</td>\n",
       "      <td>2</td>\n",
       "      <td>0.0</td>\n",
       "      <td>0</td>\n",
       "      <td>BB</td>\n",
       "      <td>GBR</td>\n",
       "      <td>Online TA</td>\n",
       "      <td>TA/TO</td>\n",
       "      <td>0</td>\n",
       "      <td>0</td>\n",
       "      <td>0</td>\n",
       "      <td>A</td>\n",
       "      <td>A</td>\n",
       "      <td>0</td>\n",
       "      <td>No Deposit</td>\n",
       "      <td>240.0</td>\n",
       "      <td>NaN</td>\n",
       "      <td>0</td>\n",
       "      <td>Transient</td>\n",
       "      <td>98.0</td>\n",
       "      <td>0</td>\n",
       "      <td>1</td>\n",
       "      <td>Check-Out</td>\n",
       "      <td>2015-07-03</td>\n",
       "    </tr>\n",
       "  </tbody>\n",
       "</table>\n",
       "</div>"
      ],
      "text/plain": [
       "          hotel  is_canceled  lead_time  arrival_date_year arrival_date_month  \\\n",
       "0  Resort Hotel            0        342               2015               July   \n",
       "1  Resort Hotel            0        737               2015               July   \n",
       "2  Resort Hotel            0          7               2015               July   \n",
       "3  Resort Hotel            0         13               2015               July   \n",
       "4  Resort Hotel            0         14               2015               July   \n",
       "\n",
       "   arrival_date_week_number  arrival_date_day_of_month  \\\n",
       "0                        27                          1   \n",
       "1                        27                          1   \n",
       "2                        27                          1   \n",
       "3                        27                          1   \n",
       "4                        27                          1   \n",
       "\n",
       "   stays_in_weekend_nights  stays_in_week_nights  adults  children  babies  \\\n",
       "0                        0                     0       2       0.0       0   \n",
       "1                        0                     0       2       0.0       0   \n",
       "2                        0                     1       1       0.0       0   \n",
       "3                        0                     1       1       0.0       0   \n",
       "4                        0                     2       2       0.0       0   \n",
       "\n",
       "  meal country market_segment distribution_channel  is_repeated_guest  \\\n",
       "0   BB     PRT         Direct               Direct                  0   \n",
       "1   BB     PRT         Direct               Direct                  0   \n",
       "2   BB     GBR         Direct               Direct                  0   \n",
       "3   BB     GBR      Corporate            Corporate                  0   \n",
       "4   BB     GBR      Online TA                TA/TO                  0   \n",
       "\n",
       "   previous_cancellations  previous_bookings_not_canceled reserved_room_type  \\\n",
       "0                       0                               0                  C   \n",
       "1                       0                               0                  C   \n",
       "2                       0                               0                  A   \n",
       "3                       0                               0                  A   \n",
       "4                       0                               0                  A   \n",
       "\n",
       "  assigned_room_type  booking_changes deposit_type  agent  company  \\\n",
       "0                  C                3   No Deposit    NaN      NaN   \n",
       "1                  C                4   No Deposit    NaN      NaN   \n",
       "2                  C                0   No Deposit    NaN      NaN   \n",
       "3                  A                0   No Deposit  304.0      NaN   \n",
       "4                  A                0   No Deposit  240.0      NaN   \n",
       "\n",
       "   days_in_waiting_list customer_type   adr  required_car_parking_spaces  \\\n",
       "0                     0     Transient   0.0                            0   \n",
       "1                     0     Transient   0.0                            0   \n",
       "2                     0     Transient  75.0                            0   \n",
       "3                     0     Transient  75.0                            0   \n",
       "4                     0     Transient  98.0                            0   \n",
       "\n",
       "   total_of_special_requests reservation_status reservation_status_date  \n",
       "0                          0          Check-Out              2015-07-01  \n",
       "1                          0          Check-Out              2015-07-01  \n",
       "2                          0          Check-Out              2015-07-02  \n",
       "3                          0          Check-Out              2015-07-02  \n",
       "4                          1          Check-Out              2015-07-03  "
      ]
     },
     "execution_count": 2,
     "metadata": {},
     "output_type": "execute_result"
    }
   ],
   "source": [
    "data = pd.read_csv(\"hotel_bookings.csv\")\n",
    "pd.set_option('display.max_columns',None)\n",
    "data.head()"
   ]
  },
  {
   "cell_type": "markdown",
   "id": "4f34d6a5",
   "metadata": {},
   "source": [
    "## Exploratory Data Analysis (EDA)"
   ]
  },
  {
   "cell_type": "markdown",
   "id": "d1323fe6",
   "metadata": {},
   "source": [
    "**Exploratory Data Analysis (EDA)** is a crucial step in understanding your data before diving into more complex analyses or machine learning. Let's explore the key steps involved in EDA:\n",
    "\n",
    "1. **Data Collection**:\n",
    "   - Begin by gathering relevant data. You can find reliable datasets on platforms like **Kaggle**, **GitHub**, or the **Machine Learning Repository**.\n",
    "   - For instance, consider the **housing dataset** available on Kaggle, which contains information about houses and their sale prices¹.\n",
    "\n",
    "2. **Data Cleaning**:\n",
    "   - Clean your dataset by removing unwanted variables and values.\n",
    "   - Address irregularities and anomalies that might skew the data.\n",
    "   - A clean dataset ensures accurate results.\n",
    "\n",
    "3. **Understanding Data Characteristics**:\n",
    "   - Use visual and numerical techniques to explore your data.\n",
    "   - Identify patterns, correlations, and relationships.\n",
    "   - Recognize which variables are significant for your analysis.\n",
    "\n",
    "4. **Visualization**:\n",
    "   - Create visualizations (such as scatter plots, histograms, and box plots) to gain insights.\n",
    "   - Understand data distributions, central tendencies, and spread.\n",
    "   - Visualizations help you grasp the data's structure and uncover hidden trends.\n",
    "\n",
    "5. **Feature Engineering**:\n",
    "   - Transform or create new features from existing ones.\n",
    "   - Feature engineering enhances model performance by providing relevant information.\n",
    "\n",
    "6. **Statistical Summary**:\n",
    "   - Compute descriptive statistics (mean, median, standard deviation, etc.).\n",
    "   - Understand the central tendencies and variability of your data.\n"
   ]
  },
  {
   "cell_type": "code",
   "execution_count": 3,
   "id": "e2aaa331",
   "metadata": {},
   "outputs": [
    {
     "data": {
      "text/plain": [
       "Index(['hotel', 'is_canceled', 'lead_time', 'arrival_date_year',\n",
       "       'arrival_date_month', 'arrival_date_week_number',\n",
       "       'arrival_date_day_of_month', 'stays_in_weekend_nights',\n",
       "       'stays_in_week_nights', 'adults', 'children', 'babies', 'meal',\n",
       "       'country', 'market_segment', 'distribution_channel',\n",
       "       'is_repeated_guest', 'previous_cancellations',\n",
       "       'previous_bookings_not_canceled', 'reserved_room_type',\n",
       "       'assigned_room_type', 'booking_changes', 'deposit_type', 'agent',\n",
       "       'company', 'days_in_waiting_list', 'customer_type', 'adr',\n",
       "       'required_car_parking_spaces', 'total_of_special_requests',\n",
       "       'reservation_status', 'reservation_status_date'],\n",
       "      dtype='object')"
      ]
     },
     "execution_count": 3,
     "metadata": {},
     "output_type": "execute_result"
    }
   ],
   "source": [
    "data.columns"
   ]
  },
  {
   "cell_type": "markdown",
   "id": "46f2466b",
   "metadata": {},
   "source": [
    "### Data Info"
   ]
  },
  {
   "cell_type": "code",
   "execution_count": 4,
   "id": "09e32f96",
   "metadata": {},
   "outputs": [
    {
     "name": "stdout",
     "output_type": "stream",
     "text": [
      "<class 'pandas.core.frame.DataFrame'>\n",
      "RangeIndex: 119390 entries, 0 to 119389\n",
      "Data columns (total 32 columns):\n",
      " #   Column                          Non-Null Count   Dtype  \n",
      "---  ------                          --------------   -----  \n",
      " 0   hotel                           119390 non-null  object \n",
      " 1   is_canceled                     119390 non-null  int64  \n",
      " 2   lead_time                       119390 non-null  int64  \n",
      " 3   arrival_date_year               119390 non-null  int64  \n",
      " 4   arrival_date_month              119390 non-null  object \n",
      " 5   arrival_date_week_number        119390 non-null  int64  \n",
      " 6   arrival_date_day_of_month       119390 non-null  int64  \n",
      " 7   stays_in_weekend_nights         119390 non-null  int64  \n",
      " 8   stays_in_week_nights            119390 non-null  int64  \n",
      " 9   adults                          119390 non-null  int64  \n",
      " 10  children                        119386 non-null  float64\n",
      " 11  babies                          119390 non-null  int64  \n",
      " 12  meal                            119390 non-null  object \n",
      " 13  country                         118902 non-null  object \n",
      " 14  market_segment                  119390 non-null  object \n",
      " 15  distribution_channel            119390 non-null  object \n",
      " 16  is_repeated_guest               119390 non-null  int64  \n",
      " 17  previous_cancellations          119390 non-null  int64  \n",
      " 18  previous_bookings_not_canceled  119390 non-null  int64  \n",
      " 19  reserved_room_type              119390 non-null  object \n",
      " 20  assigned_room_type              119390 non-null  object \n",
      " 21  booking_changes                 119390 non-null  int64  \n",
      " 22  deposit_type                    119390 non-null  object \n",
      " 23  agent                           103050 non-null  float64\n",
      " 24  company                         6797 non-null    float64\n",
      " 25  days_in_waiting_list            119390 non-null  int64  \n",
      " 26  customer_type                   119390 non-null  object \n",
      " 27  adr                             119390 non-null  float64\n",
      " 28  required_car_parking_spaces     119390 non-null  int64  \n",
      " 29  total_of_special_requests       119390 non-null  int64  \n",
      " 30  reservation_status              119390 non-null  object \n",
      " 31  reservation_status_date         119390 non-null  object \n",
      "dtypes: float64(4), int64(16), object(12)\n",
      "memory usage: 29.1+ MB\n"
     ]
    }
   ],
   "source": [
    "data.info()\n"
   ]
  },
  {
   "cell_type": "code",
   "execution_count": 5,
   "id": "52409f5c",
   "metadata": {},
   "outputs": [
    {
     "data": {
      "text/plain": [
       "is_canceled\n",
       "0    0.629584\n",
       "1    0.370416\n",
       "Name: proportion, dtype: float64"
      ]
     },
     "execution_count": 5,
     "metadata": {},
     "output_type": "execute_result"
    }
   ],
   "source": [
    "data[\"is_canceled\"].value_counts(normalize=True)"
   ]
  },
  {
   "cell_type": "code",
   "execution_count": 6,
   "id": "46c1bb56",
   "metadata": {},
   "outputs": [
    {
     "data": {
      "text/html": [
       "<div>\n",
       "<style scoped>\n",
       "    .dataframe tbody tr th:only-of-type {\n",
       "        vertical-align: middle;\n",
       "    }\n",
       "\n",
       "    .dataframe tbody tr th {\n",
       "        vertical-align: top;\n",
       "    }\n",
       "\n",
       "    .dataframe thead th {\n",
       "        text-align: right;\n",
       "    }\n",
       "</style>\n",
       "<table border=\"1\" class=\"dataframe\">\n",
       "  <thead>\n",
       "    <tr style=\"text-align: right;\">\n",
       "      <th></th>\n",
       "      <th>is_canceled</th>\n",
       "      <th>lead_time</th>\n",
       "      <th>arrival_date_year</th>\n",
       "      <th>arrival_date_week_number</th>\n",
       "      <th>arrival_date_day_of_month</th>\n",
       "      <th>stays_in_weekend_nights</th>\n",
       "      <th>stays_in_week_nights</th>\n",
       "      <th>adults</th>\n",
       "      <th>children</th>\n",
       "      <th>babies</th>\n",
       "      <th>is_repeated_guest</th>\n",
       "      <th>previous_cancellations</th>\n",
       "      <th>previous_bookings_not_canceled</th>\n",
       "      <th>booking_changes</th>\n",
       "      <th>agent</th>\n",
       "      <th>company</th>\n",
       "      <th>days_in_waiting_list</th>\n",
       "      <th>adr</th>\n",
       "      <th>required_car_parking_spaces</th>\n",
       "      <th>total_of_special_requests</th>\n",
       "    </tr>\n",
       "  </thead>\n",
       "  <tbody>\n",
       "    <tr>\n",
       "      <th>count</th>\n",
       "      <td>119390.000000</td>\n",
       "      <td>119390.000000</td>\n",
       "      <td>119390.000000</td>\n",
       "      <td>119390.000000</td>\n",
       "      <td>119390.000000</td>\n",
       "      <td>119390.000000</td>\n",
       "      <td>119390.000000</td>\n",
       "      <td>119390.000000</td>\n",
       "      <td>119386.000000</td>\n",
       "      <td>119390.000000</td>\n",
       "      <td>119390.000000</td>\n",
       "      <td>119390.000000</td>\n",
       "      <td>119390.000000</td>\n",
       "      <td>119390.000000</td>\n",
       "      <td>103050.000000</td>\n",
       "      <td>6797.000000</td>\n",
       "      <td>119390.000000</td>\n",
       "      <td>119390.000000</td>\n",
       "      <td>119390.000000</td>\n",
       "      <td>119390.000000</td>\n",
       "    </tr>\n",
       "    <tr>\n",
       "      <th>mean</th>\n",
       "      <td>0.370416</td>\n",
       "      <td>104.011416</td>\n",
       "      <td>2016.156554</td>\n",
       "      <td>27.165173</td>\n",
       "      <td>15.798241</td>\n",
       "      <td>0.927599</td>\n",
       "      <td>2.500302</td>\n",
       "      <td>1.856403</td>\n",
       "      <td>0.103890</td>\n",
       "      <td>0.007949</td>\n",
       "      <td>0.031912</td>\n",
       "      <td>0.087118</td>\n",
       "      <td>0.137097</td>\n",
       "      <td>0.221124</td>\n",
       "      <td>86.693382</td>\n",
       "      <td>189.266735</td>\n",
       "      <td>2.321149</td>\n",
       "      <td>101.831122</td>\n",
       "      <td>0.062518</td>\n",
       "      <td>0.571363</td>\n",
       "    </tr>\n",
       "    <tr>\n",
       "      <th>std</th>\n",
       "      <td>0.482918</td>\n",
       "      <td>106.863097</td>\n",
       "      <td>0.707476</td>\n",
       "      <td>13.605138</td>\n",
       "      <td>8.780829</td>\n",
       "      <td>0.998613</td>\n",
       "      <td>1.908286</td>\n",
       "      <td>0.579261</td>\n",
       "      <td>0.398561</td>\n",
       "      <td>0.097436</td>\n",
       "      <td>0.175767</td>\n",
       "      <td>0.844336</td>\n",
       "      <td>1.497437</td>\n",
       "      <td>0.652306</td>\n",
       "      <td>110.774548</td>\n",
       "      <td>131.655015</td>\n",
       "      <td>17.594721</td>\n",
       "      <td>50.535790</td>\n",
       "      <td>0.245291</td>\n",
       "      <td>0.792798</td>\n",
       "    </tr>\n",
       "    <tr>\n",
       "      <th>min</th>\n",
       "      <td>0.000000</td>\n",
       "      <td>0.000000</td>\n",
       "      <td>2015.000000</td>\n",
       "      <td>1.000000</td>\n",
       "      <td>1.000000</td>\n",
       "      <td>0.000000</td>\n",
       "      <td>0.000000</td>\n",
       "      <td>0.000000</td>\n",
       "      <td>0.000000</td>\n",
       "      <td>0.000000</td>\n",
       "      <td>0.000000</td>\n",
       "      <td>0.000000</td>\n",
       "      <td>0.000000</td>\n",
       "      <td>0.000000</td>\n",
       "      <td>1.000000</td>\n",
       "      <td>6.000000</td>\n",
       "      <td>0.000000</td>\n",
       "      <td>-6.380000</td>\n",
       "      <td>0.000000</td>\n",
       "      <td>0.000000</td>\n",
       "    </tr>\n",
       "    <tr>\n",
       "      <th>25%</th>\n",
       "      <td>0.000000</td>\n",
       "      <td>18.000000</td>\n",
       "      <td>2016.000000</td>\n",
       "      <td>16.000000</td>\n",
       "      <td>8.000000</td>\n",
       "      <td>0.000000</td>\n",
       "      <td>1.000000</td>\n",
       "      <td>2.000000</td>\n",
       "      <td>0.000000</td>\n",
       "      <td>0.000000</td>\n",
       "      <td>0.000000</td>\n",
       "      <td>0.000000</td>\n",
       "      <td>0.000000</td>\n",
       "      <td>0.000000</td>\n",
       "      <td>9.000000</td>\n",
       "      <td>62.000000</td>\n",
       "      <td>0.000000</td>\n",
       "      <td>69.290000</td>\n",
       "      <td>0.000000</td>\n",
       "      <td>0.000000</td>\n",
       "    </tr>\n",
       "    <tr>\n",
       "      <th>50%</th>\n",
       "      <td>0.000000</td>\n",
       "      <td>69.000000</td>\n",
       "      <td>2016.000000</td>\n",
       "      <td>28.000000</td>\n",
       "      <td>16.000000</td>\n",
       "      <td>1.000000</td>\n",
       "      <td>2.000000</td>\n",
       "      <td>2.000000</td>\n",
       "      <td>0.000000</td>\n",
       "      <td>0.000000</td>\n",
       "      <td>0.000000</td>\n",
       "      <td>0.000000</td>\n",
       "      <td>0.000000</td>\n",
       "      <td>0.000000</td>\n",
       "      <td>14.000000</td>\n",
       "      <td>179.000000</td>\n",
       "      <td>0.000000</td>\n",
       "      <td>94.575000</td>\n",
       "      <td>0.000000</td>\n",
       "      <td>0.000000</td>\n",
       "    </tr>\n",
       "    <tr>\n",
       "      <th>75%</th>\n",
       "      <td>1.000000</td>\n",
       "      <td>160.000000</td>\n",
       "      <td>2017.000000</td>\n",
       "      <td>38.000000</td>\n",
       "      <td>23.000000</td>\n",
       "      <td>2.000000</td>\n",
       "      <td>3.000000</td>\n",
       "      <td>2.000000</td>\n",
       "      <td>0.000000</td>\n",
       "      <td>0.000000</td>\n",
       "      <td>0.000000</td>\n",
       "      <td>0.000000</td>\n",
       "      <td>0.000000</td>\n",
       "      <td>0.000000</td>\n",
       "      <td>229.000000</td>\n",
       "      <td>270.000000</td>\n",
       "      <td>0.000000</td>\n",
       "      <td>126.000000</td>\n",
       "      <td>0.000000</td>\n",
       "      <td>1.000000</td>\n",
       "    </tr>\n",
       "    <tr>\n",
       "      <th>max</th>\n",
       "      <td>1.000000</td>\n",
       "      <td>737.000000</td>\n",
       "      <td>2017.000000</td>\n",
       "      <td>53.000000</td>\n",
       "      <td>31.000000</td>\n",
       "      <td>19.000000</td>\n",
       "      <td>50.000000</td>\n",
       "      <td>55.000000</td>\n",
       "      <td>10.000000</td>\n",
       "      <td>10.000000</td>\n",
       "      <td>1.000000</td>\n",
       "      <td>26.000000</td>\n",
       "      <td>72.000000</td>\n",
       "      <td>21.000000</td>\n",
       "      <td>535.000000</td>\n",
       "      <td>543.000000</td>\n",
       "      <td>391.000000</td>\n",
       "      <td>5400.000000</td>\n",
       "      <td>8.000000</td>\n",
       "      <td>5.000000</td>\n",
       "    </tr>\n",
       "  </tbody>\n",
       "</table>\n",
       "</div>"
      ],
      "text/plain": [
       "         is_canceled      lead_time  arrival_date_year  \\\n",
       "count  119390.000000  119390.000000      119390.000000   \n",
       "mean        0.370416     104.011416        2016.156554   \n",
       "std         0.482918     106.863097           0.707476   \n",
       "min         0.000000       0.000000        2015.000000   \n",
       "25%         0.000000      18.000000        2016.000000   \n",
       "50%         0.000000      69.000000        2016.000000   \n",
       "75%         1.000000     160.000000        2017.000000   \n",
       "max         1.000000     737.000000        2017.000000   \n",
       "\n",
       "       arrival_date_week_number  arrival_date_day_of_month  \\\n",
       "count             119390.000000              119390.000000   \n",
       "mean                  27.165173                  15.798241   \n",
       "std                   13.605138                   8.780829   \n",
       "min                    1.000000                   1.000000   \n",
       "25%                   16.000000                   8.000000   \n",
       "50%                   28.000000                  16.000000   \n",
       "75%                   38.000000                  23.000000   \n",
       "max                   53.000000                  31.000000   \n",
       "\n",
       "       stays_in_weekend_nights  stays_in_week_nights         adults  \\\n",
       "count            119390.000000         119390.000000  119390.000000   \n",
       "mean                  0.927599              2.500302       1.856403   \n",
       "std                   0.998613              1.908286       0.579261   \n",
       "min                   0.000000              0.000000       0.000000   \n",
       "25%                   0.000000              1.000000       2.000000   \n",
       "50%                   1.000000              2.000000       2.000000   \n",
       "75%                   2.000000              3.000000       2.000000   \n",
       "max                  19.000000             50.000000      55.000000   \n",
       "\n",
       "            children         babies  is_repeated_guest  \\\n",
       "count  119386.000000  119390.000000      119390.000000   \n",
       "mean        0.103890       0.007949           0.031912   \n",
       "std         0.398561       0.097436           0.175767   \n",
       "min         0.000000       0.000000           0.000000   \n",
       "25%         0.000000       0.000000           0.000000   \n",
       "50%         0.000000       0.000000           0.000000   \n",
       "75%         0.000000       0.000000           0.000000   \n",
       "max        10.000000      10.000000           1.000000   \n",
       "\n",
       "       previous_cancellations  previous_bookings_not_canceled  \\\n",
       "count           119390.000000                   119390.000000   \n",
       "mean                 0.087118                        0.137097   \n",
       "std                  0.844336                        1.497437   \n",
       "min                  0.000000                        0.000000   \n",
       "25%                  0.000000                        0.000000   \n",
       "50%                  0.000000                        0.000000   \n",
       "75%                  0.000000                        0.000000   \n",
       "max                 26.000000                       72.000000   \n",
       "\n",
       "       booking_changes          agent      company  days_in_waiting_list  \\\n",
       "count    119390.000000  103050.000000  6797.000000         119390.000000   \n",
       "mean          0.221124      86.693382   189.266735              2.321149   \n",
       "std           0.652306     110.774548   131.655015             17.594721   \n",
       "min           0.000000       1.000000     6.000000              0.000000   \n",
       "25%           0.000000       9.000000    62.000000              0.000000   \n",
       "50%           0.000000      14.000000   179.000000              0.000000   \n",
       "75%           0.000000     229.000000   270.000000              0.000000   \n",
       "max          21.000000     535.000000   543.000000            391.000000   \n",
       "\n",
       "                 adr  required_car_parking_spaces  total_of_special_requests  \n",
       "count  119390.000000                119390.000000              119390.000000  \n",
       "mean      101.831122                     0.062518                   0.571363  \n",
       "std        50.535790                     0.245291                   0.792798  \n",
       "min        -6.380000                     0.000000                   0.000000  \n",
       "25%        69.290000                     0.000000                   0.000000  \n",
       "50%        94.575000                     0.000000                   0.000000  \n",
       "75%       126.000000                     0.000000                   1.000000  \n",
       "max      5400.000000                     8.000000                   5.000000  "
      ]
     },
     "execution_count": 6,
     "metadata": {},
     "output_type": "execute_result"
    }
   ],
   "source": [
    "data.describe()"
   ]
  },
  {
   "cell_type": "markdown",
   "id": "3be65260",
   "metadata": {},
   "source": [
    "## Data Cleaning\n",
    "Clean your dataset by removing unwanted variables and values.\n",
    "Address irregularities and anomalies that might skew the data.\n"
   ]
  },
  {
   "cell_type": "markdown",
   "id": "5326da41",
   "metadata": {},
   "source": [
    "### Info no of missing value and percetage"
   ]
  },
  {
   "cell_type": "code",
   "execution_count": 7,
   "id": "378a71f4",
   "metadata": {},
   "outputs": [
    {
     "data": {
      "text/html": [
       "<div>\n",
       "<style scoped>\n",
       "    .dataframe tbody tr th:only-of-type {\n",
       "        vertical-align: middle;\n",
       "    }\n",
       "\n",
       "    .dataframe tbody tr th {\n",
       "        vertical-align: top;\n",
       "    }\n",
       "\n",
       "    .dataframe thead th {\n",
       "        text-align: right;\n",
       "    }\n",
       "</style>\n",
       "<table border=\"1\" class=\"dataframe\">\n",
       "  <thead>\n",
       "    <tr style=\"text-align: right;\">\n",
       "      <th></th>\n",
       "      <th>Index</th>\n",
       "      <th>No of Null values</th>\n",
       "      <th>% of Null values</th>\n",
       "    </tr>\n",
       "  </thead>\n",
       "  <tbody>\n",
       "    <tr>\n",
       "      <th>hotel</th>\n",
       "      <td>hotel</td>\n",
       "      <td>0</td>\n",
       "      <td>0.000000</td>\n",
       "    </tr>\n",
       "    <tr>\n",
       "      <th>is_canceled</th>\n",
       "      <td>is_canceled</td>\n",
       "      <td>0</td>\n",
       "      <td>0.000000</td>\n",
       "    </tr>\n",
       "    <tr>\n",
       "      <th>lead_time</th>\n",
       "      <td>lead_time</td>\n",
       "      <td>0</td>\n",
       "      <td>0.000000</td>\n",
       "    </tr>\n",
       "    <tr>\n",
       "      <th>arrival_date_year</th>\n",
       "      <td>arrival_date_year</td>\n",
       "      <td>0</td>\n",
       "      <td>0.000000</td>\n",
       "    </tr>\n",
       "    <tr>\n",
       "      <th>arrival_date_month</th>\n",
       "      <td>arrival_date_month</td>\n",
       "      <td>0</td>\n",
       "      <td>0.000000</td>\n",
       "    </tr>\n",
       "    <tr>\n",
       "      <th>arrival_date_week_number</th>\n",
       "      <td>arrival_date_week_number</td>\n",
       "      <td>0</td>\n",
       "      <td>0.000000</td>\n",
       "    </tr>\n",
       "    <tr>\n",
       "      <th>arrival_date_day_of_month</th>\n",
       "      <td>arrival_date_day_of_month</td>\n",
       "      <td>0</td>\n",
       "      <td>0.000000</td>\n",
       "    </tr>\n",
       "    <tr>\n",
       "      <th>stays_in_weekend_nights</th>\n",
       "      <td>stays_in_weekend_nights</td>\n",
       "      <td>0</td>\n",
       "      <td>0.000000</td>\n",
       "    </tr>\n",
       "    <tr>\n",
       "      <th>stays_in_week_nights</th>\n",
       "      <td>stays_in_week_nights</td>\n",
       "      <td>0</td>\n",
       "      <td>0.000000</td>\n",
       "    </tr>\n",
       "    <tr>\n",
       "      <th>adults</th>\n",
       "      <td>adults</td>\n",
       "      <td>0</td>\n",
       "      <td>0.000000</td>\n",
       "    </tr>\n",
       "    <tr>\n",
       "      <th>children</th>\n",
       "      <td>children</td>\n",
       "      <td>4</td>\n",
       "      <td>0.003350</td>\n",
       "    </tr>\n",
       "    <tr>\n",
       "      <th>babies</th>\n",
       "      <td>babies</td>\n",
       "      <td>0</td>\n",
       "      <td>0.000000</td>\n",
       "    </tr>\n",
       "    <tr>\n",
       "      <th>meal</th>\n",
       "      <td>meal</td>\n",
       "      <td>0</td>\n",
       "      <td>0.000000</td>\n",
       "    </tr>\n",
       "    <tr>\n",
       "      <th>country</th>\n",
       "      <td>country</td>\n",
       "      <td>488</td>\n",
       "      <td>0.408744</td>\n",
       "    </tr>\n",
       "    <tr>\n",
       "      <th>market_segment</th>\n",
       "      <td>market_segment</td>\n",
       "      <td>0</td>\n",
       "      <td>0.000000</td>\n",
       "    </tr>\n",
       "    <tr>\n",
       "      <th>distribution_channel</th>\n",
       "      <td>distribution_channel</td>\n",
       "      <td>0</td>\n",
       "      <td>0.000000</td>\n",
       "    </tr>\n",
       "    <tr>\n",
       "      <th>is_repeated_guest</th>\n",
       "      <td>is_repeated_guest</td>\n",
       "      <td>0</td>\n",
       "      <td>0.000000</td>\n",
       "    </tr>\n",
       "    <tr>\n",
       "      <th>previous_cancellations</th>\n",
       "      <td>previous_cancellations</td>\n",
       "      <td>0</td>\n",
       "      <td>0.000000</td>\n",
       "    </tr>\n",
       "    <tr>\n",
       "      <th>previous_bookings_not_canceled</th>\n",
       "      <td>previous_bookings_not_canceled</td>\n",
       "      <td>0</td>\n",
       "      <td>0.000000</td>\n",
       "    </tr>\n",
       "    <tr>\n",
       "      <th>reserved_room_type</th>\n",
       "      <td>reserved_room_type</td>\n",
       "      <td>0</td>\n",
       "      <td>0.000000</td>\n",
       "    </tr>\n",
       "    <tr>\n",
       "      <th>assigned_room_type</th>\n",
       "      <td>assigned_room_type</td>\n",
       "      <td>0</td>\n",
       "      <td>0.000000</td>\n",
       "    </tr>\n",
       "    <tr>\n",
       "      <th>booking_changes</th>\n",
       "      <td>booking_changes</td>\n",
       "      <td>0</td>\n",
       "      <td>0.000000</td>\n",
       "    </tr>\n",
       "    <tr>\n",
       "      <th>deposit_type</th>\n",
       "      <td>deposit_type</td>\n",
       "      <td>0</td>\n",
       "      <td>0.000000</td>\n",
       "    </tr>\n",
       "    <tr>\n",
       "      <th>agent</th>\n",
       "      <td>agent</td>\n",
       "      <td>16340</td>\n",
       "      <td>13.686238</td>\n",
       "    </tr>\n",
       "    <tr>\n",
       "      <th>company</th>\n",
       "      <td>company</td>\n",
       "      <td>112593</td>\n",
       "      <td>94.306893</td>\n",
       "    </tr>\n",
       "    <tr>\n",
       "      <th>days_in_waiting_list</th>\n",
       "      <td>days_in_waiting_list</td>\n",
       "      <td>0</td>\n",
       "      <td>0.000000</td>\n",
       "    </tr>\n",
       "    <tr>\n",
       "      <th>customer_type</th>\n",
       "      <td>customer_type</td>\n",
       "      <td>0</td>\n",
       "      <td>0.000000</td>\n",
       "    </tr>\n",
       "    <tr>\n",
       "      <th>adr</th>\n",
       "      <td>adr</td>\n",
       "      <td>0</td>\n",
       "      <td>0.000000</td>\n",
       "    </tr>\n",
       "    <tr>\n",
       "      <th>required_car_parking_spaces</th>\n",
       "      <td>required_car_parking_spaces</td>\n",
       "      <td>0</td>\n",
       "      <td>0.000000</td>\n",
       "    </tr>\n",
       "    <tr>\n",
       "      <th>total_of_special_requests</th>\n",
       "      <td>total_of_special_requests</td>\n",
       "      <td>0</td>\n",
       "      <td>0.000000</td>\n",
       "    </tr>\n",
       "    <tr>\n",
       "      <th>reservation_status</th>\n",
       "      <td>reservation_status</td>\n",
       "      <td>0</td>\n",
       "      <td>0.000000</td>\n",
       "    </tr>\n",
       "    <tr>\n",
       "      <th>reservation_status_date</th>\n",
       "      <td>reservation_status_date</td>\n",
       "      <td>0</td>\n",
       "      <td>0.000000</td>\n",
       "    </tr>\n",
       "  </tbody>\n",
       "</table>\n",
       "</div>"
      ],
      "text/plain": [
       "                                                         Index  \\\n",
       "hotel                                                    hotel   \n",
       "is_canceled                                        is_canceled   \n",
       "lead_time                                            lead_time   \n",
       "arrival_date_year                            arrival_date_year   \n",
       "arrival_date_month                          arrival_date_month   \n",
       "arrival_date_week_number              arrival_date_week_number   \n",
       "arrival_date_day_of_month            arrival_date_day_of_month   \n",
       "stays_in_weekend_nights                stays_in_weekend_nights   \n",
       "stays_in_week_nights                      stays_in_week_nights   \n",
       "adults                                                  adults   \n",
       "children                                              children   \n",
       "babies                                                  babies   \n",
       "meal                                                      meal   \n",
       "country                                                country   \n",
       "market_segment                                  market_segment   \n",
       "distribution_channel                      distribution_channel   \n",
       "is_repeated_guest                            is_repeated_guest   \n",
       "previous_cancellations                  previous_cancellations   \n",
       "previous_bookings_not_canceled  previous_bookings_not_canceled   \n",
       "reserved_room_type                          reserved_room_type   \n",
       "assigned_room_type                          assigned_room_type   \n",
       "booking_changes                                booking_changes   \n",
       "deposit_type                                      deposit_type   \n",
       "agent                                                    agent   \n",
       "company                                                company   \n",
       "days_in_waiting_list                      days_in_waiting_list   \n",
       "customer_type                                    customer_type   \n",
       "adr                                                        adr   \n",
       "required_car_parking_spaces        required_car_parking_spaces   \n",
       "total_of_special_requests            total_of_special_requests   \n",
       "reservation_status                          reservation_status   \n",
       "reservation_status_date                reservation_status_date   \n",
       "\n",
       "                                No of Null values  % of Null values  \n",
       "hotel                                           0          0.000000  \n",
       "is_canceled                                     0          0.000000  \n",
       "lead_time                                       0          0.000000  \n",
       "arrival_date_year                               0          0.000000  \n",
       "arrival_date_month                              0          0.000000  \n",
       "arrival_date_week_number                        0          0.000000  \n",
       "arrival_date_day_of_month                       0          0.000000  \n",
       "stays_in_weekend_nights                         0          0.000000  \n",
       "stays_in_week_nights                            0          0.000000  \n",
       "adults                                          0          0.000000  \n",
       "children                                        4          0.003350  \n",
       "babies                                          0          0.000000  \n",
       "meal                                            0          0.000000  \n",
       "country                                       488          0.408744  \n",
       "market_segment                                  0          0.000000  \n",
       "distribution_channel                            0          0.000000  \n",
       "is_repeated_guest                               0          0.000000  \n",
       "previous_cancellations                          0          0.000000  \n",
       "previous_bookings_not_canceled                  0          0.000000  \n",
       "reserved_room_type                              0          0.000000  \n",
       "assigned_room_type                              0          0.000000  \n",
       "booking_changes                                 0          0.000000  \n",
       "deposit_type                                    0          0.000000  \n",
       "agent                                       16340         13.686238  \n",
       "company                                    112593         94.306893  \n",
       "days_in_waiting_list                            0          0.000000  \n",
       "customer_type                                   0          0.000000  \n",
       "adr                                             0          0.000000  \n",
       "required_car_parking_spaces                     0          0.000000  \n",
       "total_of_special_requests                       0          0.000000  \n",
       "reservation_status                              0          0.000000  \n",
       "reservation_status_date                         0          0.000000  "
      ]
     },
     "execution_count": 7,
     "metadata": {},
     "output_type": "execute_result"
    }
   ],
   "source": [
    "# data.isnull().sum() ,data.isnull().sum()/len(data)*100\n",
    "pd.DataFrame({\"Index\":data.columns  , \"No of Null values\" : data.isnull().sum() , \"% of Null values\" :data.isnull().sum()/len(data)*100})"
   ]
  },
  {
   "cell_type": "markdown",
   "id": "363b9d02",
   "metadata": {},
   "source": [
    "\n",
    "### company has 94% of null values, so we can drop it.\n",
    "#### And remaining 3 feature are ['children' , 'country' , 'agent'] has 0.003% , 0.4% , 13% and dtype int , char , int  respectively  "
   ]
  },
  {
   "cell_type": "code",
   "execution_count": 8,
   "id": "77510212",
   "metadata": {},
   "outputs": [],
   "source": [
    "#dropig company feature \n",
    "data.drop([\"company\"], axis = 1 , inplace = True )"
   ]
  },
  {
   "cell_type": "code",
   "execution_count": 9,
   "id": "56179074",
   "metadata": {},
   "outputs": [
    {
     "data": {
      "text/plain": [
       "['children', 'country', 'agent']"
      ]
     },
     "execution_count": 9,
     "metadata": {},
     "output_type": "execute_result"
    }
   ],
   "source": [
    "#Appending null columns in a list \n",
    "\n",
    "null_columns = []\n",
    "for column in data.columns:\n",
    "    if data[column].isnull().sum():\n",
    "        null_columns.append(column)\n",
    "null_columns"
   ]
  },
  {
   "cell_type": "code",
   "execution_count": 10,
   "id": "0c4e9d88",
   "metadata": {
    "scrolled": false
   },
   "outputs": [
    {
     "name": "stdout",
     "output_type": "stream",
     "text": [
      "children 4.11258954232252\n"
     ]
    },
    {
     "data": {
      "image/png": "[encoded data removed]",
      "text/plain": [
       "<Figure size 640x480 with 1 Axes>"
      ]
     },
     "metadata": {},
     "output_type": "display_data"
    },
    {
     "name": "stdout",
     "output_type": "stream",
     "text": [
      "agent 1.089385636108877\n"
     ]
    },
    {
     "data": {
      "image/png": "[encoded data removed]",
      "text/plain": [
       "<Figure size 640x480 with 1 Axes>"
      ]
     },
     "metadata": {},
     "output_type": "display_data"
    }
   ],
   "source": [
    "# visuvalising the null feature to observe the Distribution\n",
    "def plot(box):\n",
    "    sns.boxplot(box)\n",
    "    plt.show()\n",
    "for column in null_columns:\n",
    "\n",
    "    if column == \"country\":\n",
    "        continue\n",
    "    else:\n",
    "        print(column , data[column].skew())\n",
    "        plot(data[column])"
   ]
  },
  {
   "cell_type": "code",
   "execution_count": 11,
   "id": "77644093",
   "metadata": {},
   "outputs": [],
   "source": [
    "#clearly it show right skew so, we use median to impute null values\n",
    "\n",
    "# int dtype children and agent\n",
    "\n",
    "for column in null_columns:\n",
    "    if data.dtypes[column] == np.number:\n",
    "        data[column].fillna(data[column].median() , inplace = True)\n"
   ]
  },
  {
   "cell_type": "code",
   "execution_count": 12,
   "id": "f7d7833a",
   "metadata": {},
   "outputs": [
    {
     "data": {
      "text/plain": [
       "Index(['PRT', 'GBR', 'FRA', 'ESP', 'DEU', 'ITA'], dtype='object', name='country')"
      ]
     },
     "execution_count": 12,
     "metadata": {},
     "output_type": "execute_result"
    }
   ],
   "source": [
    "# char dtype country\n",
    "data[\"country\"].value_counts().index[0:6]"
   ]
  },
  {
   "cell_type": "code",
   "execution_count": 13,
   "id": "6d35e869",
   "metadata": {},
   "outputs": [
    {
     "data": {
      "text/plain": [
       "country\n",
       "PRT    48590\n",
       "GBR    12129\n",
       "FRA    10415\n",
       "ESP     8568\n",
       "DEU     7287\n",
       "ITA     3766\n",
       "Name: count, dtype: int64"
      ]
     },
     "execution_count": 13,
     "metadata": {},
     "output_type": "execute_result"
    }
   ],
   "source": [
    "data[\"country\"].value_counts()[0:6]"
   ]
  },
  {
   "cell_type": "code",
   "execution_count": 14,
   "id": "178b28b1",
   "metadata": {},
   "outputs": [
    {
     "data": {
      "text/plain": [
       "country\n",
       "PRT    40.698551\n",
       "GBR    10.159142\n",
       "FRA     8.723511\n",
       "ESP     7.176480\n",
       "DEU     6.103526\n",
       "ITA     3.154368\n",
       "Name: count, dtype: float64"
      ]
     },
     "execution_count": 14,
     "metadata": {},
     "output_type": "execute_result"
    }
   ],
   "source": [
    "data[\"country\"].value_counts()[0:6]/len(data)*100"
   ]
  },
  {
   "cell_type": "markdown",
   "id": "6fdee8e9",
   "metadata": {},
   "source": [
    "#### Majorty persons comes from PRT country which is 40%\n"
   ]
  },
  {
   "cell_type": "code",
   "execution_count": 15,
   "id": "10f1ecd5",
   "metadata": {},
   "outputs": [],
   "source": [
    "\n",
    "data[\"country\"].fillna(data[\"country\"].mode()[0], inplace = True )\n",
    "data[\"country\"][data[\"country\"] == \"PRT\" ] = 1\n",
    "data[\"country\"][~(data[\"country\"] == 1)] = 0\n",
    "\n",
    "\n"
   ]
  },
  {
   "cell_type": "code",
   "execution_count": 16,
   "id": "b9e4f5e8",
   "metadata": {},
   "outputs": [
    {
     "data": {
      "text/plain": [
       "hotel                             0\n",
       "is_canceled                       0\n",
       "lead_time                         0\n",
       "arrival_date_year                 0\n",
       "arrival_date_month                0\n",
       "arrival_date_week_number          0\n",
       "arrival_date_day_of_month         0\n",
       "stays_in_weekend_nights           0\n",
       "stays_in_week_nights              0\n",
       "adults                            0\n",
       "children                          0\n",
       "babies                            0\n",
       "meal                              0\n",
       "country                           0\n",
       "market_segment                    0\n",
       "distribution_channel              0\n",
       "is_repeated_guest                 0\n",
       "previous_cancellations            0\n",
       "previous_bookings_not_canceled    0\n",
       "reserved_room_type                0\n",
       "assigned_room_type                0\n",
       "booking_changes                   0\n",
       "deposit_type                      0\n",
       "agent                             0\n",
       "days_in_waiting_list              0\n",
       "customer_type                     0\n",
       "adr                               0\n",
       "required_car_parking_spaces       0\n",
       "total_of_special_requests         0\n",
       "reservation_status                0\n",
       "reservation_status_date           0\n",
       "dtype: int64"
      ]
     },
     "execution_count": 16,
     "metadata": {},
     "output_type": "execute_result"
    }
   ],
   "source": [
    "data.isnull().sum()"
   ]
  },
  {
   "cell_type": "markdown",
   "id": "8047b0a0",
   "metadata": {},
   "source": [
    "# checking the outliers"
   ]
  },
  {
   "cell_type": "code",
   "execution_count": 17,
   "id": "fdef2ab5",
   "metadata": {
    "scrolled": false
   },
   "outputs": [
    {
     "name": "stdout",
     "output_type": "stream",
     "text": [
      "lead_time 1.3465498727254268\n"
     ]
    },
    {
     "data": {
      "image/png": "[encoded data removed]",
      "text/plain": [
       "<Figure size 640x480 with 1 Axes>"
      ]
     },
     "metadata": {},
     "output_type": "display_data"
    },
    {
     "name": "stdout",
     "output_type": "stream",
     "text": [
      "arrival_date_year -0.2325832518127746\n"
     ]
    },
    {
     "data": {
      "image/png": "[encoded data removed]",
      "text/plain": [
       "<Figure size 640x480 with 1 Axes>"
      ]
     },
     "metadata": {},
     "output_type": "display_data"
    },
    {
     "name": "stdout",
     "output_type": "stream",
     "text": [
      "arrival_date_week_number -0.010014326041540811\n"
     ]
    },
    {
     "data": {
      "image/png": "[encoded data removed]",
      "text/plain": [
       "<Figure size 640x480 with 1 Axes>"
      ]
     },
     "metadata": {},
     "output_type": "display_data"
    },
    {
     "name": "stdout",
     "output_type": "stream",
     "text": [
      "arrival_date_day_of_month -0.0020004539786149557\n"
     ]
    },
    {
     "data": {
      "image/png": "[encoded data removed]",
      "text/plain": [
       "<Figure size 640x480 with 1 Axes>"
      ]
     },
     "metadata": {},
     "output_type": "display_data"
    },
    {
     "name": "stdout",
     "output_type": "stream",
     "text": [
      "stays_in_weekend_nights 1.3800464497062852\n"
     ]
    },
    {
     "data": {
      "image/png": "[encoded data removed]",
      "text/plain": [
       "<Figure size 640x480 with 1 Axes>"
      ]
     },
     "metadata": {},
     "output_type": "display_data"
    },
    {
     "name": "stdout",
     "output_type": "stream",
     "text": [
      "stays_in_week_nights 2.862249242067124\n"
     ]
    },
    {
     "data": {
      "image/png": "[encoded data removed]",
      "text/plain": [
       "<Figure size 640x480 with 1 Axes>"
      ]
     },
     "metadata": {},
     "output_type": "display_data"
    },
    {
     "name": "stdout",
     "output_type": "stream",
     "text": [
      "adults 18.317804759206094\n"
     ]
    },
    {
     "data": {
      "image/png": "[encoded data removed]",
      "text/plain": [
       "<Figure size 640x480 with 1 Axes>"
      ]
     },
     "metadata": {},
     "output_type": "display_data"
    },
    {
     "name": "stdout",
     "output_type": "stream",
     "text": [
      "children 4.112669999376718\n"
     ]
    },
    {
     "data": {
      "image/png": "[encoded data removed]",
      "text/plain": [
       "<Figure size 640x480 with 1 Axes>"
      ]
     },
     "metadata": {},
     "output_type": "display_data"
    },
    {
     "name": "stdout",
     "output_type": "stream",
     "text": [
      "babies 24.646544829663075\n"
     ]
    },
    {
     "data": {
      "image/png": "[encoded data removed]",
      "text/plain": [
       "<Figure size 640x480 with 1 Axes>"
      ]
     },
     "metadata": {},
     "output_type": "display_data"
    },
    {
     "name": "stdout",
     "output_type": "stream",
     "text": [
      "is_repeated_guest 5.326315335062105\n"
     ]
    },
    {
     "data": {
      "image/png": "[encoded data removed]",
      "text/plain": [
       "<Figure size 640x480 with 1 Axes>"
      ]
     },
     "metadata": {},
     "output_type": "display_data"
    },
    {
     "name": "stdout",
     "output_type": "stream",
     "text": [
      "previous_cancellations 24.458048723119287\n"
     ]
    },
    {
     "data": {
      "image/png": "[encoded data removed]",
      "text/plain": [
       "<Figure size 640x480 with 1 Axes>"
      ]
     },
     "metadata": {},
     "output_type": "display_data"
    },
    {
     "name": "stdout",
     "output_type": "stream",
     "text": [
      "previous_bookings_not_canceled 23.53979995284346\n"
     ]
    },
    {
     "data": {
      "image/png": "[encoded data removed]",
      "text/plain": [
       "<Figure size 640x480 with 1 Axes>"
      ]
     },
     "metadata": {},
     "output_type": "display_data"
    },
    {
     "name": "stdout",
     "output_type": "stream",
     "text": [
      "booking_changes 6.00027005440932\n"
     ]
    },
    {
     "data": {
      "image/png": "[encoded data removed]",
      "text/plain": [
       "<Figure size 640x480 with 1 Axes>"
      ]
     },
     "metadata": {},
     "output_type": "display_data"
    },
    {
     "name": "stdout",
     "output_type": "stream",
     "text": [
      "agent 1.314455783340046\n"
     ]
    },
    {
     "data": {
      "image/png": "[encoded data removed]",
      "text/plain": [
       "<Figure size 640x480 with 1 Axes>"
      ]
     },
     "metadata": {},
     "output_type": "display_data"
    },
    {
     "name": "stdout",
     "output_type": "stream",
     "text": [
      "days_in_waiting_list 11.944353446438399\n"
     ]
    },
    {
     "data": {
      "image/png": "[encoded data removed]",
      "text/plain": [
       "<Figure size 640x480 with 1 Axes>"
      ]
     },
     "metadata": {},
     "output_type": "display_data"
    },
    {
     "name": "stdout",
     "output_type": "stream",
     "text": [
      "adr 10.53021398218952\n"
     ]
    },
    {
     "data": {
      "image/png": "[encoded data removed]",
      "text/plain": [
       "<Figure size 640x480 with 1 Axes>"
      ]
     },
     "metadata": {},
     "output_type": "display_data"
    },
    {
     "name": "stdout",
     "output_type": "stream",
     "text": [
      "required_car_parking_spaces 4.163233237874088\n"
     ]
    },
    {
     "data": {
      "image/png": "[encoded data removed]",
      "text/plain": [
       "<Figure size 640x480 with 1 Axes>"
      ]
     },
     "metadata": {},
     "output_type": "display_data"
    },
    {
     "name": "stdout",
     "output_type": "stream",
     "text": [
      "total_of_special_requests 1.3491893774222594\n"
     ]
    },
    {
     "data": {
      "image/png": "[encoded data removed]",
      "text/plain": [
       "<Figure size 640x480 with 1 Axes>"
      ]
     },
     "metadata": {},
     "output_type": "display_data"
    }
   ],
   "source": [
    "# visuvalising the null feature to observe the Distribution\n",
    "def plot(box):\n",
    "    sns.boxplot(box)\n",
    "    plt.show()\n",
    "for column in data.select_dtypes(exclude=\"object\").drop(\"is_canceled\" , axis = 1):\n",
    "    print(column , data[column].skew())\n",
    "    plot(data[column])"
   ]
  },
  {
   "cell_type": "markdown",
   "id": "44a13cad",
   "metadata": {},
   "source": [
    "### Treating outliers with IQR method"
   ]
  },
  {
   "cell_type": "code",
   "execution_count": 18,
   "id": "af5b96c8",
   "metadata": {},
   "outputs": [
    {
     "data": {
      "text/plain": [
       "(['lead_time',\n",
       "  'arrival_date_year',\n",
       "  'arrival_date_week_number',\n",
       "  'arrival_date_day_of_month',\n",
       "  'stays_in_weekend_nights',\n",
       "  'stays_in_week_nights',\n",
       "  'adults',\n",
       "  'children',\n",
       "  'babies',\n",
       "  'is_repeated_guest',\n",
       "  'previous_cancellations',\n",
       "  'previous_bookings_not_canceled',\n",
       "  'booking_changes',\n",
       "  'agent',\n",
       "  'days_in_waiting_list',\n",
       "  'adr',\n",
       "  'required_car_parking_spaces',\n",
       "  'total_of_special_requests'],\n",
       " 18)"
      ]
     },
     "execution_count": 18,
     "metadata": {},
     "output_type": "execute_result"
    }
   ],
   "source": [
    "outlier_columns = list(data.select_dtypes(exclude='object').drop([\"is_canceled\"] , axis = 1).columns)\n",
    "outlier_columns ,len(outlier_columns)"
   ]
  },
  {
   "cell_type": "code",
   "execution_count": 19,
   "id": "f32ad841",
   "metadata": {},
   "outputs": [],
   "source": [
    "for column in outlier_columns:\n",
    "    data[column] = pd.to_numeric(data[column])"
   ]
  },
  {
   "cell_type": "code",
   "execution_count": 20,
   "id": "2265218c",
   "metadata": {},
   "outputs": [
    {
     "data": {
      "text/plain": [
       "(['arrival_date_year',\n",
       "  'arrival_date_day_of_month',\n",
       "  'stays_in_week_nights',\n",
       "  'adults',\n",
       "  'babies',\n",
       "  'is_repeated_guest',\n",
       "  'previous_cancellations',\n",
       "  'previous_bookings_not_canceled',\n",
       "  'booking_changes',\n",
       "  'days_in_waiting_list',\n",
       "  'adr',\n",
       "  'total_of_special_requests'],\n",
       " 12)"
      ]
     },
     "execution_count": 20,
     "metadata": {},
     "output_type": "execute_result"
    }
   ],
   "source": [
    "for column in outlier_columns:\n",
    "    data[column] = data[column].astype(int)\n",
    "    if data[column].skew() >= 5 or data[column].skew() <= -5 :\n",
    "        continue\n",
    "    else:\n",
    "        outlier_columns.remove(column)\n",
    "    \n",
    "outlier_columns ,len(outlier_columns)"
   ]
  },
  {
   "cell_type": "code",
   "execution_count": 21,
   "id": "5cb37ae0",
   "metadata": {
    "scrolled": false
   },
   "outputs": [],
   "source": [
    "def outlier(data, outlier_columns):\n",
    "    for column in outlier_columns:\n",
    "        iq1 = np.percentile(data[column] , 25 , method=\"linear\")\n",
    "        iq3 = np.percentile(data[column] , 75 , method=\"linear\")\n",
    "        iqr = iq3 - iq1\n",
    "        ll = iq1- 1.5*iqr\n",
    "        ul = iq3 - 1.5*iqr\n",
    "        data[column][data[column] <= ll] = ll\n",
    "        data[column][data[column] >= ul] = ul\n",
    "        \n",
    "        \n",
    "outlier(data,outlier_columns)     "
   ]
  },
  {
   "cell_type": "code",
   "execution_count": 22,
   "id": "800c9c2e",
   "metadata": {
    "scrolled": false
   },
   "outputs": [
    {
     "name": "stdout",
     "output_type": "stream",
     "text": [
      "arrival_date_year -1.6290234104538297\n"
     ]
    },
    {
     "data": {
      "image/png": "[encoded data removed]",
      "text/plain": [
       "<Figure size 640x480 with 1 Axes>"
      ]
     },
     "metadata": {},
     "output_type": "display_data"
    },
    {
     "name": "stdout",
     "output_type": "stream",
     "text": [
      "arrival_date_day_of_month 0\n"
     ]
    },
    {
     "data": {
      "image/png": "[encoded data removed]",
      "text/plain": [
       "<Figure size 640x480 with 1 Axes>"
      ]
     },
     "metadata": {},
     "output_type": "display_data"
    },
    {
     "name": "stdout",
     "output_type": "stream",
     "text": [
      "stays_in_week_nights 0\n"
     ]
    },
    {
     "data": {
      "image/png": "[encoded data removed]",
      "text/plain": [
       "<Figure size 640x480 with 1 Axes>"
      ]
     },
     "metadata": {},
     "output_type": "display_data"
    },
    {
     "name": "stdout",
     "output_type": "stream",
     "text": [
      "adults 0\n"
     ]
    },
    {
     "data": {
      "image/png": "[encoded data removed]",
      "text/plain": [
       "<Figure size 640x480 with 1 Axes>"
      ]
     },
     "metadata": {},
     "output_type": "display_data"
    },
    {
     "name": "stdout",
     "output_type": "stream",
     "text": [
      "babies 0\n"
     ]
    },
    {
     "data": {
      "image/png": "[encoded data removed]",
      "text/plain": [
       "<Figure size 640x480 with 1 Axes>"
      ]
     },
     "metadata": {},
     "output_type": "display_data"
    },
    {
     "name": "stdout",
     "output_type": "stream",
     "text": [
      "is_repeated_guest 0\n"
     ]
    },
    {
     "data": {
      "image/png": "[encoded data removed]",
      "text/plain": [
       "<Figure size 640x480 with 1 Axes>"
      ]
     },
     "metadata": {},
     "output_type": "display_data"
    },
    {
     "name": "stdout",
     "output_type": "stream",
     "text": [
      "previous_cancellations 0\n"
     ]
    },
    {
     "data": {
      "image/png": "[encoded data removed]",
      "text/plain": [
       "<Figure size 640x480 with 1 Axes>"
      ]
     },
     "metadata": {},
     "output_type": "display_data"
    },
    {
     "name": "stdout",
     "output_type": "stream",
     "text": [
      "previous_bookings_not_canceled 0\n"
     ]
    },
    {
     "data": {
      "image/png": "[encoded data removed]",
      "text/plain": [
       "<Figure size 640x480 with 1 Axes>"
      ]
     },
     "metadata": {},
     "output_type": "display_data"
    },
    {
     "name": "stdout",
     "output_type": "stream",
     "text": [
      "booking_changes 0\n"
     ]
    },
    {
     "data": {
      "image/png": "[encoded data removed]",
      "text/plain": [
       "<Figure size 640x480 with 1 Axes>"
      ]
     },
     "metadata": {},
     "output_type": "display_data"
    },
    {
     "name": "stdout",
     "output_type": "stream",
     "text": [
      "days_in_waiting_list 0\n"
     ]
    },
    {
     "data": {
      "image/png": "[encoded data removed]",
      "text/plain": [
       "<Figure size 640x480 with 1 Axes>"
      ]
     },
     "metadata": {},
     "output_type": "display_data"
    },
    {
     "name": "stdout",
     "output_type": "stream",
     "text": [
      "adr -6.3503235694263305\n"
     ]
    },
    {
     "data": {
      "image/png": "[encoded data removed]",
      "text/plain": [
       "<Figure size 640x480 with 1 Axes>"
      ]
     },
     "metadata": {},
     "output_type": "display_data"
    },
    {
     "name": "stdout",
     "output_type": "stream",
     "text": [
      "total_of_special_requests 0\n"
     ]
    },
    {
     "data": {
      "image/png": "[encoded data removed]",
      "text/plain": [
       "<Figure size 640x480 with 1 Axes>"
      ]
     },
     "metadata": {},
     "output_type": "display_data"
    }
   ],
   "source": [
    "def plot(box):\n",
    "    sns.boxplot(box)\n",
    "    plt.show()\n",
    "for column in outlier_columns:\n",
    "    print(column , data[column].skew())\n",
    "    plot(data[column])"
   ]
  },
  {
   "cell_type": "code",
   "execution_count": 23,
   "id": "ad42b090",
   "metadata": {},
   "outputs": [
    {
     "data": {
      "text/plain": [
       "array(['July', 'August', 'September', 'October', 'November', 'December',\n",
       "       'January', 'February', 'March', 'April', 'May', 'June'],\n",
       "      dtype=object)"
      ]
     },
     "execution_count": 23,
     "metadata": {},
     "output_type": "execute_result"
    }
   ],
   "source": [
    "data[\"arrival_date_month\"].unique()"
   ]
  },
  {
   "cell_type": "code",
   "execution_count": 24,
   "id": "d4bf43b1",
   "metadata": {},
   "outputs": [],
   "source": [
    "data[\"arrival_date_month\"] = data[\"arrival_date_month\"].apply(lambda x: datetime.datetime.strptime(x, '%B').month )\n",
    "data[\"reservation_status_date\"] = pd.to_datetime(data[\"reservation_status_date\"])\n",
    "data[\"reservation_status_day\"] = data[\"reservation_status_date\"].dt.day\n",
    "data[\"reservation_status_month\"] =  data[\"reservation_status_date\"].dt.month\n",
    "data[\"reservation_status_year\"] =  data[\"reservation_status_date\"].dt.year\n",
    "data.drop(['reservation_status'] , axis = 1 , inplace = True)"
   ]
  },
  {
   "cell_type": "code",
   "execution_count": 25,
   "id": "8a6996e5",
   "metadata": {},
   "outputs": [
    {
     "data": {
      "text/html": [
       "<div>\n",
       "<style scoped>\n",
       "    .dataframe tbody tr th:only-of-type {\n",
       "        vertical-align: middle;\n",
       "    }\n",
       "\n",
       "    .dataframe tbody tr th {\n",
       "        vertical-align: top;\n",
       "    }\n",
       "\n",
       "    .dataframe thead th {\n",
       "        text-align: right;\n",
       "    }\n",
       "</style>\n",
       "<table border=\"1\" class=\"dataframe\">\n",
       "  <thead>\n",
       "    <tr style=\"text-align: right;\">\n",
       "      <th></th>\n",
       "      <th>lead_time</th>\n",
       "      <th>arrival_date_year</th>\n",
       "      <th>arrival_date_month</th>\n",
       "      <th>arrival_date_week_number</th>\n",
       "      <th>arrival_date_day_of_month</th>\n",
       "      <th>stays_in_weekend_nights</th>\n",
       "      <th>stays_in_week_nights</th>\n",
       "      <th>adults</th>\n",
       "      <th>children</th>\n",
       "      <th>babies</th>\n",
       "      <th>is_repeated_guest</th>\n",
       "      <th>previous_cancellations</th>\n",
       "      <th>previous_bookings_not_canceled</th>\n",
       "      <th>booking_changes</th>\n",
       "      <th>agent</th>\n",
       "      <th>days_in_waiting_list</th>\n",
       "      <th>adr</th>\n",
       "      <th>required_car_parking_spaces</th>\n",
       "      <th>total_of_special_requests</th>\n",
       "      <th>reservation_status_date</th>\n",
       "      <th>reservation_status_day</th>\n",
       "      <th>reservation_status_month</th>\n",
       "      <th>reservation_status_year</th>\n",
       "    </tr>\n",
       "  </thead>\n",
       "  <tbody>\n",
       "    <tr>\n",
       "      <th>lead_time</th>\n",
       "      <td>1.000000</td>\n",
       "      <td>0.030087</td>\n",
       "      <td>0.131424</td>\n",
       "      <td>0.126871</td>\n",
       "      <td>NaN</td>\n",
       "      <td>0.085671</td>\n",
       "      <td>NaN</td>\n",
       "      <td>NaN</td>\n",
       "      <td>-0.037613</td>\n",
       "      <td>NaN</td>\n",
       "      <td>NaN</td>\n",
       "      <td>NaN</td>\n",
       "      <td>NaN</td>\n",
       "      <td>NaN</td>\n",
       "      <td>-0.020967</td>\n",
       "      <td>NaN</td>\n",
       "      <td>0.093459</td>\n",
       "      <td>-0.116451</td>\n",
       "      <td>NaN</td>\n",
       "      <td>-0.072317</td>\n",
       "      <td>-0.007655</td>\n",
       "      <td>0.055905</td>\n",
       "      <td>-0.084754</td>\n",
       "    </tr>\n",
       "    <tr>\n",
       "      <th>arrival_date_year</th>\n",
       "      <td>0.030087</td>\n",
       "      <td>1.000000</td>\n",
       "      <td>-0.438955</td>\n",
       "      <td>-0.435017</td>\n",
       "      <td>NaN</td>\n",
       "      <td>-0.001007</td>\n",
       "      <td>NaN</td>\n",
       "      <td>NaN</td>\n",
       "      <td>0.050311</td>\n",
       "      <td>NaN</td>\n",
       "      <td>NaN</td>\n",
       "      <td>NaN</td>\n",
       "      <td>NaN</td>\n",
       "      <td>NaN</td>\n",
       "      <td>0.033072</td>\n",
       "      <td>NaN</td>\n",
       "      <td>0.050237</td>\n",
       "      <td>0.002038</td>\n",
       "      <td>NaN</td>\n",
       "      <td>0.684659</td>\n",
       "      <td>0.036198</td>\n",
       "      <td>-0.311552</td>\n",
       "      <td>0.720287</td>\n",
       "    </tr>\n",
       "    <tr>\n",
       "      <th>arrival_date_month</th>\n",
       "      <td>0.131424</td>\n",
       "      <td>-0.438955</td>\n",
       "      <td>1.000000</td>\n",
       "      <td>0.995105</td>\n",
       "      <td>NaN</td>\n",
       "      <td>0.018440</td>\n",
       "      <td>NaN</td>\n",
       "      <td>NaN</td>\n",
       "      <td>0.005437</td>\n",
       "      <td>NaN</td>\n",
       "      <td>NaN</td>\n",
       "      <td>NaN</td>\n",
       "      <td>NaN</td>\n",
       "      <td>NaN</td>\n",
       "      <td>-0.018924</td>\n",
       "      <td>NaN</td>\n",
       "      <td>-0.010676</td>\n",
       "      <td>0.000257</td>\n",
       "      <td>NaN</td>\n",
       "      <td>-0.200689</td>\n",
       "      <td>-0.020058</td>\n",
       "      <td>0.682759</td>\n",
       "      <td>-0.441439</td>\n",
       "    </tr>\n",
       "    <tr>\n",
       "      <th>arrival_date_week_number</th>\n",
       "      <td>0.126871</td>\n",
       "      <td>-0.435017</td>\n",
       "      <td>0.995105</td>\n",
       "      <td>1.000000</td>\n",
       "      <td>NaN</td>\n",
       "      <td>0.018208</td>\n",
       "      <td>NaN</td>\n",
       "      <td>NaN</td>\n",
       "      <td>0.005515</td>\n",
       "      <td>NaN</td>\n",
       "      <td>NaN</td>\n",
       "      <td>NaN</td>\n",
       "      <td>NaN</td>\n",
       "      <td>NaN</td>\n",
       "      <td>-0.019919</td>\n",
       "      <td>NaN</td>\n",
       "      <td>-0.010733</td>\n",
       "      <td>0.001920</td>\n",
       "      <td>NaN</td>\n",
       "      <td>-0.212199</td>\n",
       "      <td>0.009862</td>\n",
       "      <td>0.680231</td>\n",
       "      <td>-0.451574</td>\n",
       "    </tr>\n",
       "    <tr>\n",
       "      <th>arrival_date_day_of_month</th>\n",
       "      <td>NaN</td>\n",
       "      <td>NaN</td>\n",
       "      <td>NaN</td>\n",
       "      <td>NaN</td>\n",
       "      <td>NaN</td>\n",
       "      <td>NaN</td>\n",
       "      <td>NaN</td>\n",
       "      <td>NaN</td>\n",
       "      <td>NaN</td>\n",
       "      <td>NaN</td>\n",
       "      <td>NaN</td>\n",
       "      <td>NaN</td>\n",
       "      <td>NaN</td>\n",
       "      <td>NaN</td>\n",
       "      <td>NaN</td>\n",
       "      <td>NaN</td>\n",
       "      <td>NaN</td>\n",
       "      <td>NaN</td>\n",
       "      <td>NaN</td>\n",
       "      <td>NaN</td>\n",
       "      <td>NaN</td>\n",
       "      <td>NaN</td>\n",
       "      <td>NaN</td>\n",
       "    </tr>\n",
       "    <tr>\n",
       "      <th>stays_in_weekend_nights</th>\n",
       "      <td>0.085671</td>\n",
       "      <td>-0.001007</td>\n",
       "      <td>0.018440</td>\n",
       "      <td>0.018208</td>\n",
       "      <td>NaN</td>\n",
       "      <td>1.000000</td>\n",
       "      <td>NaN</td>\n",
       "      <td>NaN</td>\n",
       "      <td>0.045794</td>\n",
       "      <td>NaN</td>\n",
       "      <td>NaN</td>\n",
       "      <td>NaN</td>\n",
       "      <td>NaN</td>\n",
       "      <td>NaN</td>\n",
       "      <td>0.157568</td>\n",
       "      <td>NaN</td>\n",
       "      <td>0.057476</td>\n",
       "      <td>-0.018554</td>\n",
       "      <td>NaN</td>\n",
       "      <td>0.046364</td>\n",
       "      <td>0.013436</td>\n",
       "      <td>0.004530</td>\n",
       "      <td>0.038512</td>\n",
       "    </tr>\n",
       "    <tr>\n",
       "      <th>stays_in_week_nights</th>\n",
       "      <td>NaN</td>\n",
       "      <td>NaN</td>\n",
       "      <td>NaN</td>\n",
       "      <td>NaN</td>\n",
       "      <td>NaN</td>\n",
       "      <td>NaN</td>\n",
       "      <td>NaN</td>\n",
       "      <td>NaN</td>\n",
       "      <td>NaN</td>\n",
       "      <td>NaN</td>\n",
       "      <td>NaN</td>\n",
       "      <td>NaN</td>\n",
       "      <td>NaN</td>\n",
       "      <td>NaN</td>\n",
       "      <td>NaN</td>\n",
       "      <td>NaN</td>\n",
       "      <td>NaN</td>\n",
       "      <td>NaN</td>\n",
       "      <td>NaN</td>\n",
       "      <td>NaN</td>\n",
       "      <td>NaN</td>\n",
       "      <td>NaN</td>\n",
       "      <td>NaN</td>\n",
       "    </tr>\n",
       "    <tr>\n",
       "      <th>adults</th>\n",
       "      <td>NaN</td>\n",
       "      <td>NaN</td>\n",
       "      <td>NaN</td>\n",
       "      <td>NaN</td>\n",
       "      <td>NaN</td>\n",
       "      <td>NaN</td>\n",
       "      <td>NaN</td>\n",
       "      <td>NaN</td>\n",
       "      <td>NaN</td>\n",
       "      <td>NaN</td>\n",
       "      <td>NaN</td>\n",
       "      <td>NaN</td>\n",
       "      <td>NaN</td>\n",
       "      <td>NaN</td>\n",
       "      <td>NaN</td>\n",
       "      <td>NaN</td>\n",
       "      <td>NaN</td>\n",
       "      <td>NaN</td>\n",
       "      <td>NaN</td>\n",
       "      <td>NaN</td>\n",
       "      <td>NaN</td>\n",
       "      <td>NaN</td>\n",
       "      <td>NaN</td>\n",
       "    </tr>\n",
       "    <tr>\n",
       "      <th>children</th>\n",
       "      <td>-0.037613</td>\n",
       "      <td>0.050311</td>\n",
       "      <td>0.005437</td>\n",
       "      <td>0.005515</td>\n",
       "      <td>NaN</td>\n",
       "      <td>0.045794</td>\n",
       "      <td>NaN</td>\n",
       "      <td>NaN</td>\n",
       "      <td>1.000000</td>\n",
       "      <td>NaN</td>\n",
       "      <td>NaN</td>\n",
       "      <td>NaN</td>\n",
       "      <td>NaN</td>\n",
       "      <td>NaN</td>\n",
       "      <td>0.049095</td>\n",
       "      <td>NaN</td>\n",
       "      <td>0.016803</td>\n",
       "      <td>0.056255</td>\n",
       "      <td>NaN</td>\n",
       "      <td>0.069875</td>\n",
       "      <td>0.010013</td>\n",
       "      <td>-0.006545</td>\n",
       "      <td>0.063529</td>\n",
       "    </tr>\n",
       "    <tr>\n",
       "      <th>babies</th>\n",
       "      <td>NaN</td>\n",
       "      <td>NaN</td>\n",
       "      <td>NaN</td>\n",
       "      <td>NaN</td>\n",
       "      <td>NaN</td>\n",
       "      <td>NaN</td>\n",
       "      <td>NaN</td>\n",
       "      <td>NaN</td>\n",
       "      <td>NaN</td>\n",
       "      <td>NaN</td>\n",
       "      <td>NaN</td>\n",
       "      <td>NaN</td>\n",
       "      <td>NaN</td>\n",
       "      <td>NaN</td>\n",
       "      <td>NaN</td>\n",
       "      <td>NaN</td>\n",
       "      <td>NaN</td>\n",
       "      <td>NaN</td>\n",
       "      <td>NaN</td>\n",
       "      <td>NaN</td>\n",
       "      <td>NaN</td>\n",
       "      <td>NaN</td>\n",
       "      <td>NaN</td>\n",
       "    </tr>\n",
       "    <tr>\n",
       "      <th>is_repeated_guest</th>\n",
       "      <td>NaN</td>\n",
       "      <td>NaN</td>\n",
       "      <td>NaN</td>\n",
       "      <td>NaN</td>\n",
       "      <td>NaN</td>\n",
       "      <td>NaN</td>\n",
       "      <td>NaN</td>\n",
       "      <td>NaN</td>\n",
       "      <td>NaN</td>\n",
       "      <td>NaN</td>\n",
       "      <td>NaN</td>\n",
       "      <td>NaN</td>\n",
       "      <td>NaN</td>\n",
       "      <td>NaN</td>\n",
       "      <td>NaN</td>\n",
       "      <td>NaN</td>\n",
       "      <td>NaN</td>\n",
       "      <td>NaN</td>\n",
       "      <td>NaN</td>\n",
       "      <td>NaN</td>\n",
       "      <td>NaN</td>\n",
       "      <td>NaN</td>\n",
       "      <td>NaN</td>\n",
       "    </tr>\n",
       "    <tr>\n",
       "      <th>previous_cancellations</th>\n",
       "      <td>NaN</td>\n",
       "      <td>NaN</td>\n",
       "      <td>NaN</td>\n",
       "      <td>NaN</td>\n",
       "      <td>NaN</td>\n",
       "      <td>NaN</td>\n",
       "      <td>NaN</td>\n",
       "      <td>NaN</td>\n",
       "      <td>NaN</td>\n",
       "      <td>NaN</td>\n",
       "      <td>NaN</td>\n",
       "      <td>NaN</td>\n",
       "      <td>NaN</td>\n",
       "      <td>NaN</td>\n",
       "      <td>NaN</td>\n",
       "      <td>NaN</td>\n",
       "      <td>NaN</td>\n",
       "      <td>NaN</td>\n",
       "      <td>NaN</td>\n",
       "      <td>NaN</td>\n",
       "      <td>NaN</td>\n",
       "      <td>NaN</td>\n",
       "      <td>NaN</td>\n",
       "    </tr>\n",
       "    <tr>\n",
       "      <th>previous_bookings_not_canceled</th>\n",
       "      <td>NaN</td>\n",
       "      <td>NaN</td>\n",
       "      <td>NaN</td>\n",
       "      <td>NaN</td>\n",
       "      <td>NaN</td>\n",
       "      <td>NaN</td>\n",
       "      <td>NaN</td>\n",
       "      <td>NaN</td>\n",
       "      <td>NaN</td>\n",
       "      <td>NaN</td>\n",
       "      <td>NaN</td>\n",
       "      <td>NaN</td>\n",
       "      <td>NaN</td>\n",
       "      <td>NaN</td>\n",
       "      <td>NaN</td>\n",
       "      <td>NaN</td>\n",
       "      <td>NaN</td>\n",
       "      <td>NaN</td>\n",
       "      <td>NaN</td>\n",
       "      <td>NaN</td>\n",
       "      <td>NaN</td>\n",
       "      <td>NaN</td>\n",
       "      <td>NaN</td>\n",
       "    </tr>\n",
       "    <tr>\n",
       "      <th>booking_changes</th>\n",
       "      <td>NaN</td>\n",
       "      <td>NaN</td>\n",
       "      <td>NaN</td>\n",
       "      <td>NaN</td>\n",
       "      <td>NaN</td>\n",
       "      <td>NaN</td>\n",
       "      <td>NaN</td>\n",
       "      <td>NaN</td>\n",
       "      <td>NaN</td>\n",
       "      <td>NaN</td>\n",
       "      <td>NaN</td>\n",
       "      <td>NaN</td>\n",
       "      <td>NaN</td>\n",
       "      <td>NaN</td>\n",
       "      <td>NaN</td>\n",
       "      <td>NaN</td>\n",
       "      <td>NaN</td>\n",
       "      <td>NaN</td>\n",
       "      <td>NaN</td>\n",
       "      <td>NaN</td>\n",
       "      <td>NaN</td>\n",
       "      <td>NaN</td>\n",
       "      <td>NaN</td>\n",
       "    </tr>\n",
       "    <tr>\n",
       "      <th>agent</th>\n",
       "      <td>-0.020967</td>\n",
       "      <td>0.033072</td>\n",
       "      <td>-0.018924</td>\n",
       "      <td>-0.019919</td>\n",
       "      <td>NaN</td>\n",
       "      <td>0.157568</td>\n",
       "      <td>NaN</td>\n",
       "      <td>NaN</td>\n",
       "      <td>0.049095</td>\n",
       "      <td>NaN</td>\n",
       "      <td>NaN</td>\n",
       "      <td>NaN</td>\n",
       "      <td>NaN</td>\n",
       "      <td>NaN</td>\n",
       "      <td>1.000000</td>\n",
       "      <td>NaN</td>\n",
       "      <td>0.002411</td>\n",
       "      <td>0.124876</td>\n",
       "      <td>NaN</td>\n",
       "      <td>0.076332</td>\n",
       "      <td>0.018429</td>\n",
       "      <td>-0.001704</td>\n",
       "      <td>0.067037</td>\n",
       "    </tr>\n",
       "    <tr>\n",
       "      <th>days_in_waiting_list</th>\n",
       "      <td>NaN</td>\n",
       "      <td>NaN</td>\n",
       "      <td>NaN</td>\n",
       "      <td>NaN</td>\n",
       "      <td>NaN</td>\n",
       "      <td>NaN</td>\n",
       "      <td>NaN</td>\n",
       "      <td>NaN</td>\n",
       "      <td>NaN</td>\n",
       "      <td>NaN</td>\n",
       "      <td>NaN</td>\n",
       "      <td>NaN</td>\n",
       "      <td>NaN</td>\n",
       "      <td>NaN</td>\n",
       "      <td>NaN</td>\n",
       "      <td>NaN</td>\n",
       "      <td>NaN</td>\n",
       "      <td>NaN</td>\n",
       "      <td>NaN</td>\n",
       "      <td>NaN</td>\n",
       "      <td>NaN</td>\n",
       "      <td>NaN</td>\n",
       "      <td>NaN</td>\n",
       "    </tr>\n",
       "    <tr>\n",
       "      <th>adr</th>\n",
       "      <td>0.093459</td>\n",
       "      <td>0.050237</td>\n",
       "      <td>-0.010676</td>\n",
       "      <td>-0.010733</td>\n",
       "      <td>NaN</td>\n",
       "      <td>0.057476</td>\n",
       "      <td>NaN</td>\n",
       "      <td>NaN</td>\n",
       "      <td>0.016803</td>\n",
       "      <td>NaN</td>\n",
       "      <td>NaN</td>\n",
       "      <td>NaN</td>\n",
       "      <td>NaN</td>\n",
       "      <td>NaN</td>\n",
       "      <td>0.002411</td>\n",
       "      <td>NaN</td>\n",
       "      <td>1.000000</td>\n",
       "      <td>0.001704</td>\n",
       "      <td>NaN</td>\n",
       "      <td>0.039257</td>\n",
       "      <td>-0.000658</td>\n",
       "      <td>-0.015624</td>\n",
       "      <td>0.040572</td>\n",
       "    </tr>\n",
       "    <tr>\n",
       "      <th>required_car_parking_spaces</th>\n",
       "      <td>-0.116451</td>\n",
       "      <td>0.002038</td>\n",
       "      <td>0.000257</td>\n",
       "      <td>0.001920</td>\n",
       "      <td>NaN</td>\n",
       "      <td>-0.018554</td>\n",
       "      <td>NaN</td>\n",
       "      <td>NaN</td>\n",
       "      <td>0.056255</td>\n",
       "      <td>NaN</td>\n",
       "      <td>NaN</td>\n",
       "      <td>NaN</td>\n",
       "      <td>NaN</td>\n",
       "      <td>NaN</td>\n",
       "      <td>0.124876</td>\n",
       "      <td>NaN</td>\n",
       "      <td>0.001704</td>\n",
       "      <td>1.000000</td>\n",
       "      <td>NaN</td>\n",
       "      <td>0.021558</td>\n",
       "      <td>0.005976</td>\n",
       "      <td>0.014297</td>\n",
       "      <td>0.013142</td>\n",
       "    </tr>\n",
       "    <tr>\n",
       "      <th>total_of_special_requests</th>\n",
       "      <td>NaN</td>\n",
       "      <td>NaN</td>\n",
       "      <td>NaN</td>\n",
       "      <td>NaN</td>\n",
       "      <td>NaN</td>\n",
       "      <td>NaN</td>\n",
       "      <td>NaN</td>\n",
       "      <td>NaN</td>\n",
       "      <td>NaN</td>\n",
       "      <td>NaN</td>\n",
       "      <td>NaN</td>\n",
       "      <td>NaN</td>\n",
       "      <td>NaN</td>\n",
       "      <td>NaN</td>\n",
       "      <td>NaN</td>\n",
       "      <td>NaN</td>\n",
       "      <td>NaN</td>\n",
       "      <td>NaN</td>\n",
       "      <td>NaN</td>\n",
       "      <td>NaN</td>\n",
       "      <td>NaN</td>\n",
       "      <td>NaN</td>\n",
       "      <td>NaN</td>\n",
       "    </tr>\n",
       "    <tr>\n",
       "      <th>reservation_status_date</th>\n",
       "      <td>-0.072317</td>\n",
       "      <td>0.684659</td>\n",
       "      <td>-0.200689</td>\n",
       "      <td>-0.212199</td>\n",
       "      <td>NaN</td>\n",
       "      <td>0.046364</td>\n",
       "      <td>NaN</td>\n",
       "      <td>NaN</td>\n",
       "      <td>0.069875</td>\n",
       "      <td>NaN</td>\n",
       "      <td>NaN</td>\n",
       "      <td>NaN</td>\n",
       "      <td>NaN</td>\n",
       "      <td>NaN</td>\n",
       "      <td>0.076332</td>\n",
       "      <td>NaN</td>\n",
       "      <td>0.039257</td>\n",
       "      <td>0.021558</td>\n",
       "      <td>NaN</td>\n",
       "      <td>1.000000</td>\n",
       "      <td>0.037273</td>\n",
       "      <td>-0.116075</td>\n",
       "      <td>0.921000</td>\n",
       "    </tr>\n",
       "    <tr>\n",
       "      <th>reservation_status_day</th>\n",
       "      <td>-0.007655</td>\n",
       "      <td>0.036198</td>\n",
       "      <td>-0.020058</td>\n",
       "      <td>0.009862</td>\n",
       "      <td>NaN</td>\n",
       "      <td>0.013436</td>\n",
       "      <td>NaN</td>\n",
       "      <td>NaN</td>\n",
       "      <td>0.010013</td>\n",
       "      <td>NaN</td>\n",
       "      <td>NaN</td>\n",
       "      <td>NaN</td>\n",
       "      <td>NaN</td>\n",
       "      <td>NaN</td>\n",
       "      <td>0.018429</td>\n",
       "      <td>NaN</td>\n",
       "      <td>-0.000658</td>\n",
       "      <td>0.005976</td>\n",
       "      <td>NaN</td>\n",
       "      <td>0.037273</td>\n",
       "      <td>1.000000</td>\n",
       "      <td>0.026221</td>\n",
       "      <td>-0.011085</td>\n",
       "    </tr>\n",
       "    <tr>\n",
       "      <th>reservation_status_month</th>\n",
       "      <td>0.055905</td>\n",
       "      <td>-0.311552</td>\n",
       "      <td>0.682759</td>\n",
       "      <td>0.680231</td>\n",
       "      <td>NaN</td>\n",
       "      <td>0.004530</td>\n",
       "      <td>NaN</td>\n",
       "      <td>NaN</td>\n",
       "      <td>-0.006545</td>\n",
       "      <td>NaN</td>\n",
       "      <td>NaN</td>\n",
       "      <td>NaN</td>\n",
       "      <td>NaN</td>\n",
       "      <td>NaN</td>\n",
       "      <td>-0.001704</td>\n",
       "      <td>NaN</td>\n",
       "      <td>-0.015624</td>\n",
       "      <td>0.014297</td>\n",
       "      <td>NaN</td>\n",
       "      <td>-0.116075</td>\n",
       "      <td>0.026221</td>\n",
       "      <td>1.000000</td>\n",
       "      <td>-0.492392</td>\n",
       "    </tr>\n",
       "    <tr>\n",
       "      <th>reservation_status_year</th>\n",
       "      <td>-0.084754</td>\n",
       "      <td>0.720287</td>\n",
       "      <td>-0.441439</td>\n",
       "      <td>-0.451574</td>\n",
       "      <td>NaN</td>\n",
       "      <td>0.038512</td>\n",
       "      <td>NaN</td>\n",
       "      <td>NaN</td>\n",
       "      <td>0.063529</td>\n",
       "      <td>NaN</td>\n",
       "      <td>NaN</td>\n",
       "      <td>NaN</td>\n",
       "      <td>NaN</td>\n",
       "      <td>NaN</td>\n",
       "      <td>0.067037</td>\n",
       "      <td>NaN</td>\n",
       "      <td>0.040572</td>\n",
       "      <td>0.013142</td>\n",
       "      <td>NaN</td>\n",
       "      <td>0.921000</td>\n",
       "      <td>-0.011085</td>\n",
       "      <td>-0.492392</td>\n",
       "      <td>1.000000</td>\n",
       "    </tr>\n",
       "  </tbody>\n",
       "</table>\n",
       "</div>"
      ],
      "text/plain": [
       "                                lead_time  arrival_date_year  \\\n",
       "lead_time                        1.000000           0.030087   \n",
       "arrival_date_year                0.030087           1.000000   \n",
       "arrival_date_month               0.131424          -0.438955   \n",
       "arrival_date_week_number         0.126871          -0.435017   \n",
       "arrival_date_day_of_month             NaN                NaN   \n",
       "stays_in_weekend_nights          0.085671          -0.001007   \n",
       "stays_in_week_nights                  NaN                NaN   \n",
       "adults                                NaN                NaN   \n",
       "children                        -0.037613           0.050311   \n",
       "babies                                NaN                NaN   \n",
       "is_repeated_guest                     NaN                NaN   \n",
       "previous_cancellations                NaN                NaN   \n",
       "previous_bookings_not_canceled        NaN                NaN   \n",
       "booking_changes                       NaN                NaN   \n",
       "agent                           -0.020967           0.033072   \n",
       "days_in_waiting_list                  NaN                NaN   \n",
       "adr                              0.093459           0.050237   \n",
       "required_car_parking_spaces     -0.116451           0.002038   \n",
       "total_of_special_requests             NaN                NaN   \n",
       "reservation_status_date         -0.072317           0.684659   \n",
       "reservation_status_day          -0.007655           0.036198   \n",
       "reservation_status_month         0.055905          -0.311552   \n",
       "reservation_status_year         -0.084754           0.720287   \n",
       "\n",
       "                                arrival_date_month  arrival_date_week_number  \\\n",
       "lead_time                                 0.131424                  0.126871   \n",
       "arrival_date_year                        -0.438955                 -0.435017   \n",
       "arrival_date_month                        1.000000                  0.995105   \n",
       "arrival_date_week_number                  0.995105                  1.000000   \n",
       "arrival_date_day_of_month                      NaN                       NaN   \n",
       "stays_in_weekend_nights                   0.018440                  0.018208   \n",
       "stays_in_week_nights                           NaN                       NaN   \n",
       "adults                                         NaN                       NaN   \n",
       "children                                  0.005437                  0.005515   \n",
       "babies                                         NaN                       NaN   \n",
       "is_repeated_guest                              NaN                       NaN   \n",
       "previous_cancellations                         NaN                       NaN   \n",
       "previous_bookings_not_canceled                 NaN                       NaN   \n",
       "booking_changes                                NaN                       NaN   \n",
       "agent                                    -0.018924                 -0.019919   \n",
       "days_in_waiting_list                           NaN                       NaN   \n",
       "adr                                      -0.010676                 -0.010733   \n",
       "required_car_parking_spaces               0.000257                  0.001920   \n",
       "total_of_special_requests                      NaN                       NaN   \n",
       "reservation_status_date                  -0.200689                 -0.212199   \n",
       "reservation_status_day                   -0.020058                  0.009862   \n",
       "reservation_status_month                  0.682759                  0.680231   \n",
       "reservation_status_year                  -0.441439                 -0.451574   \n",
       "\n",
       "                                arrival_date_day_of_month  \\\n",
       "lead_time                                             NaN   \n",
       "arrival_date_year                                     NaN   \n",
       "arrival_date_month                                    NaN   \n",
       "arrival_date_week_number                              NaN   \n",
       "arrival_date_day_of_month                             NaN   \n",
       "stays_in_weekend_nights                               NaN   \n",
       "stays_in_week_nights                                  NaN   \n",
       "adults                                                NaN   \n",
       "children                                              NaN   \n",
       "babies                                                NaN   \n",
       "is_repeated_guest                                     NaN   \n",
       "previous_cancellations                                NaN   \n",
       "previous_bookings_not_canceled                        NaN   \n",
       "booking_changes                                       NaN   \n",
       "agent                                                 NaN   \n",
       "days_in_waiting_list                                  NaN   \n",
       "adr                                                   NaN   \n",
       "required_car_parking_spaces                           NaN   \n",
       "total_of_special_requests                             NaN   \n",
       "reservation_status_date                               NaN   \n",
       "reservation_status_day                                NaN   \n",
       "reservation_status_month                              NaN   \n",
       "reservation_status_year                               NaN   \n",
       "\n",
       "                                stays_in_weekend_nights  stays_in_week_nights  \\\n",
       "lead_time                                      0.085671                   NaN   \n",
       "arrival_date_year                             -0.001007                   NaN   \n",
       "arrival_date_month                             0.018440                   NaN   \n",
       "arrival_date_week_number                       0.018208                   NaN   \n",
       "arrival_date_day_of_month                           NaN                   NaN   \n",
       "stays_in_weekend_nights                        1.000000                   NaN   \n",
       "stays_in_week_nights                                NaN                   NaN   \n",
       "adults                                              NaN                   NaN   \n",
       "children                                       0.045794                   NaN   \n",
       "babies                                              NaN                   NaN   \n",
       "is_repeated_guest                                   NaN                   NaN   \n",
       "previous_cancellations                              NaN                   NaN   \n",
       "previous_bookings_not_canceled                      NaN                   NaN   \n",
       "booking_changes                                     NaN                   NaN   \n",
       "agent                                          0.157568                   NaN   \n",
       "days_in_waiting_list                                NaN                   NaN   \n",
       "adr                                            0.057476                   NaN   \n",
       "required_car_parking_spaces                   -0.018554                   NaN   \n",
       "total_of_special_requests                           NaN                   NaN   \n",
       "reservation_status_date                        0.046364                   NaN   \n",
       "reservation_status_day                         0.013436                   NaN   \n",
       "reservation_status_month                       0.004530                   NaN   \n",
       "reservation_status_year                        0.038512                   NaN   \n",
       "\n",
       "                                adults  children  babies  is_repeated_guest  \\\n",
       "lead_time                          NaN -0.037613     NaN                NaN   \n",
       "arrival_date_year                  NaN  0.050311     NaN                NaN   \n",
       "arrival_date_month                 NaN  0.005437     NaN                NaN   \n",
       "arrival_date_week_number           NaN  0.005515     NaN                NaN   \n",
       "arrival_date_day_of_month          NaN       NaN     NaN                NaN   \n",
       "stays_in_weekend_nights            NaN  0.045794     NaN                NaN   \n",
       "stays_in_week_nights               NaN       NaN     NaN                NaN   \n",
       "adults                             NaN       NaN     NaN                NaN   \n",
       "children                           NaN  1.000000     NaN                NaN   \n",
       "babies                             NaN       NaN     NaN                NaN   \n",
       "is_repeated_guest                  NaN       NaN     NaN                NaN   \n",
       "previous_cancellations             NaN       NaN     NaN                NaN   \n",
       "previous_bookings_not_canceled     NaN       NaN     NaN                NaN   \n",
       "booking_changes                    NaN       NaN     NaN                NaN   \n",
       "agent                              NaN  0.049095     NaN                NaN   \n",
       "days_in_waiting_list               NaN       NaN     NaN                NaN   \n",
       "adr                                NaN  0.016803     NaN                NaN   \n",
       "required_car_parking_spaces        NaN  0.056255     NaN                NaN   \n",
       "total_of_special_requests          NaN       NaN     NaN                NaN   \n",
       "reservation_status_date            NaN  0.069875     NaN                NaN   \n",
       "reservation_status_day             NaN  0.010013     NaN                NaN   \n",
       "reservation_status_month           NaN -0.006545     NaN                NaN   \n",
       "reservation_status_year            NaN  0.063529     NaN                NaN   \n",
       "\n",
       "                                previous_cancellations  \\\n",
       "lead_time                                          NaN   \n",
       "arrival_date_year                                  NaN   \n",
       "arrival_date_month                                 NaN   \n",
       "arrival_date_week_number                           NaN   \n",
       "arrival_date_day_of_month                          NaN   \n",
       "stays_in_weekend_nights                            NaN   \n",
       "stays_in_week_nights                               NaN   \n",
       "adults                                             NaN   \n",
       "children                                           NaN   \n",
       "babies                                             NaN   \n",
       "is_repeated_guest                                  NaN   \n",
       "previous_cancellations                             NaN   \n",
       "previous_bookings_not_canceled                     NaN   \n",
       "booking_changes                                    NaN   \n",
       "agent                                              NaN   \n",
       "days_in_waiting_list                               NaN   \n",
       "adr                                                NaN   \n",
       "required_car_parking_spaces                        NaN   \n",
       "total_of_special_requests                          NaN   \n",
       "reservation_status_date                            NaN   \n",
       "reservation_status_day                             NaN   \n",
       "reservation_status_month                           NaN   \n",
       "reservation_status_year                            NaN   \n",
       "\n",
       "                                previous_bookings_not_canceled  \\\n",
       "lead_time                                                  NaN   \n",
       "arrival_date_year                                          NaN   \n",
       "arrival_date_month                                         NaN   \n",
       "arrival_date_week_number                                   NaN   \n",
       "arrival_date_day_of_month                                  NaN   \n",
       "stays_in_weekend_nights                                    NaN   \n",
       "stays_in_week_nights                                       NaN   \n",
       "adults                                                     NaN   \n",
       "children                                                   NaN   \n",
       "babies                                                     NaN   \n",
       "is_repeated_guest                                          NaN   \n",
       "previous_cancellations                                     NaN   \n",
       "previous_bookings_not_canceled                             NaN   \n",
       "booking_changes                                            NaN   \n",
       "agent                                                      NaN   \n",
       "days_in_waiting_list                                       NaN   \n",
       "adr                                                        NaN   \n",
       "required_car_parking_spaces                                NaN   \n",
       "total_of_special_requests                                  NaN   \n",
       "reservation_status_date                                    NaN   \n",
       "reservation_status_day                                     NaN   \n",
       "reservation_status_month                                   NaN   \n",
       "reservation_status_year                                    NaN   \n",
       "\n",
       "                                booking_changes     agent  \\\n",
       "lead_time                                   NaN -0.020967   \n",
       "arrival_date_year                           NaN  0.033072   \n",
       "arrival_date_month                          NaN -0.018924   \n",
       "arrival_date_week_number                    NaN -0.019919   \n",
       "arrival_date_day_of_month                   NaN       NaN   \n",
       "stays_in_weekend_nights                     NaN  0.157568   \n",
       "stays_in_week_nights                        NaN       NaN   \n",
       "adults                                      NaN       NaN   \n",
       "children                                    NaN  0.049095   \n",
       "babies                                      NaN       NaN   \n",
       "is_repeated_guest                           NaN       NaN   \n",
       "previous_cancellations                      NaN       NaN   \n",
       "previous_bookings_not_canceled              NaN       NaN   \n",
       "booking_changes                             NaN       NaN   \n",
       "agent                                       NaN  1.000000   \n",
       "days_in_waiting_list                        NaN       NaN   \n",
       "adr                                         NaN  0.002411   \n",
       "required_car_parking_spaces                 NaN  0.124876   \n",
       "total_of_special_requests                   NaN       NaN   \n",
       "reservation_status_date                     NaN  0.076332   \n",
       "reservation_status_day                      NaN  0.018429   \n",
       "reservation_status_month                    NaN -0.001704   \n",
       "reservation_status_year                     NaN  0.067037   \n",
       "\n",
       "                                days_in_waiting_list       adr  \\\n",
       "lead_time                                        NaN  0.093459   \n",
       "arrival_date_year                                NaN  0.050237   \n",
       "arrival_date_month                               NaN -0.010676   \n",
       "arrival_date_week_number                         NaN -0.010733   \n",
       "arrival_date_day_of_month                        NaN       NaN   \n",
       "stays_in_weekend_nights                          NaN  0.057476   \n",
       "stays_in_week_nights                             NaN       NaN   \n",
       "adults                                           NaN       NaN   \n",
       "children                                         NaN  0.016803   \n",
       "babies                                           NaN       NaN   \n",
       "is_repeated_guest                                NaN       NaN   \n",
       "previous_cancellations                           NaN       NaN   \n",
       "previous_bookings_not_canceled                   NaN       NaN   \n",
       "booking_changes                                  NaN       NaN   \n",
       "agent                                            NaN  0.002411   \n",
       "days_in_waiting_list                             NaN       NaN   \n",
       "adr                                              NaN  1.000000   \n",
       "required_car_parking_spaces                      NaN  0.001704   \n",
       "total_of_special_requests                        NaN       NaN   \n",
       "reservation_status_date                          NaN  0.039257   \n",
       "reservation_status_day                           NaN -0.000658   \n",
       "reservation_status_month                         NaN -0.015624   \n",
       "reservation_status_year                          NaN  0.040572   \n",
       "\n",
       "                                required_car_parking_spaces  \\\n",
       "lead_time                                         -0.116451   \n",
       "arrival_date_year                                  0.002038   \n",
       "arrival_date_month                                 0.000257   \n",
       "arrival_date_week_number                           0.001920   \n",
       "arrival_date_day_of_month                               NaN   \n",
       "stays_in_weekend_nights                           -0.018554   \n",
       "stays_in_week_nights                                    NaN   \n",
       "adults                                                  NaN   \n",
       "children                                           0.056255   \n",
       "babies                                                  NaN   \n",
       "is_repeated_guest                                       NaN   \n",
       "previous_cancellations                                  NaN   \n",
       "previous_bookings_not_canceled                          NaN   \n",
       "booking_changes                                         NaN   \n",
       "agent                                              0.124876   \n",
       "days_in_waiting_list                                    NaN   \n",
       "adr                                                0.001704   \n",
       "required_car_parking_spaces                        1.000000   \n",
       "total_of_special_requests                               NaN   \n",
       "reservation_status_date                            0.021558   \n",
       "reservation_status_day                             0.005976   \n",
       "reservation_status_month                           0.014297   \n",
       "reservation_status_year                            0.013142   \n",
       "\n",
       "                                total_of_special_requests  \\\n",
       "lead_time                                             NaN   \n",
       "arrival_date_year                                     NaN   \n",
       "arrival_date_month                                    NaN   \n",
       "arrival_date_week_number                              NaN   \n",
       "arrival_date_day_of_month                             NaN   \n",
       "stays_in_weekend_nights                               NaN   \n",
       "stays_in_week_nights                                  NaN   \n",
       "adults                                                NaN   \n",
       "children                                              NaN   \n",
       "babies                                                NaN   \n",
       "is_repeated_guest                                     NaN   \n",
       "previous_cancellations                                NaN   \n",
       "previous_bookings_not_canceled                        NaN   \n",
       "booking_changes                                       NaN   \n",
       "agent                                                 NaN   \n",
       "days_in_waiting_list                                  NaN   \n",
       "adr                                                   NaN   \n",
       "required_car_parking_spaces                           NaN   \n",
       "total_of_special_requests                             NaN   \n",
       "reservation_status_date                               NaN   \n",
       "reservation_status_day                                NaN   \n",
       "reservation_status_month                              NaN   \n",
       "reservation_status_year                               NaN   \n",
       "\n",
       "                                reservation_status_date  \\\n",
       "lead_time                                     -0.072317   \n",
       "arrival_date_year                              0.684659   \n",
       "arrival_date_month                            -0.200689   \n",
       "arrival_date_week_number                      -0.212199   \n",
       "arrival_date_day_of_month                           NaN   \n",
       "stays_in_weekend_nights                        0.046364   \n",
       "stays_in_week_nights                                NaN   \n",
       "adults                                              NaN   \n",
       "children                                       0.069875   \n",
       "babies                                              NaN   \n",
       "is_repeated_guest                                   NaN   \n",
       "previous_cancellations                              NaN   \n",
       "previous_bookings_not_canceled                      NaN   \n",
       "booking_changes                                     NaN   \n",
       "agent                                          0.076332   \n",
       "days_in_waiting_list                                NaN   \n",
       "adr                                            0.039257   \n",
       "required_car_parking_spaces                    0.021558   \n",
       "total_of_special_requests                           NaN   \n",
       "reservation_status_date                        1.000000   \n",
       "reservation_status_day                         0.037273   \n",
       "reservation_status_month                      -0.116075   \n",
       "reservation_status_year                        0.921000   \n",
       "\n",
       "                                reservation_status_day  \\\n",
       "lead_time                                    -0.007655   \n",
       "arrival_date_year                             0.036198   \n",
       "arrival_date_month                           -0.020058   \n",
       "arrival_date_week_number                      0.009862   \n",
       "arrival_date_day_of_month                          NaN   \n",
       "stays_in_weekend_nights                       0.013436   \n",
       "stays_in_week_nights                               NaN   \n",
       "adults                                             NaN   \n",
       "children                                      0.010013   \n",
       "babies                                             NaN   \n",
       "is_repeated_guest                                  NaN   \n",
       "previous_cancellations                             NaN   \n",
       "previous_bookings_not_canceled                     NaN   \n",
       "booking_changes                                    NaN   \n",
       "agent                                         0.018429   \n",
       "days_in_waiting_list                               NaN   \n",
       "adr                                          -0.000658   \n",
       "required_car_parking_spaces                   0.005976   \n",
       "total_of_special_requests                          NaN   \n",
       "reservation_status_date                       0.037273   \n",
       "reservation_status_day                        1.000000   \n",
       "reservation_status_month                      0.026221   \n",
       "reservation_status_year                      -0.011085   \n",
       "\n",
       "                                reservation_status_month  \\\n",
       "lead_time                                       0.055905   \n",
       "arrival_date_year                              -0.311552   \n",
       "arrival_date_month                              0.682759   \n",
       "arrival_date_week_number                        0.680231   \n",
       "arrival_date_day_of_month                            NaN   \n",
       "stays_in_weekend_nights                         0.004530   \n",
       "stays_in_week_nights                                 NaN   \n",
       "adults                                               NaN   \n",
       "children                                       -0.006545   \n",
       "babies                                               NaN   \n",
       "is_repeated_guest                                    NaN   \n",
       "previous_cancellations                               NaN   \n",
       "previous_bookings_not_canceled                       NaN   \n",
       "booking_changes                                      NaN   \n",
       "agent                                          -0.001704   \n",
       "days_in_waiting_list                                 NaN   \n",
       "adr                                            -0.015624   \n",
       "required_car_parking_spaces                     0.014297   \n",
       "total_of_special_requests                            NaN   \n",
       "reservation_status_date                        -0.116075   \n",
       "reservation_status_day                          0.026221   \n",
       "reservation_status_month                        1.000000   \n",
       "reservation_status_year                        -0.492392   \n",
       "\n",
       "                                reservation_status_year  \n",
       "lead_time                                     -0.084754  \n",
       "arrival_date_year                              0.720287  \n",
       "arrival_date_month                            -0.441439  \n",
       "arrival_date_week_number                      -0.451574  \n",
       "arrival_date_day_of_month                           NaN  \n",
       "stays_in_weekend_nights                        0.038512  \n",
       "stays_in_week_nights                                NaN  \n",
       "adults                                              NaN  \n",
       "children                                       0.063529  \n",
       "babies                                              NaN  \n",
       "is_repeated_guest                                   NaN  \n",
       "previous_cancellations                              NaN  \n",
       "previous_bookings_not_canceled                      NaN  \n",
       "booking_changes                                     NaN  \n",
       "agent                                          0.067037  \n",
       "days_in_waiting_list                                NaN  \n",
       "adr                                            0.040572  \n",
       "required_car_parking_spaces                    0.013142  \n",
       "total_of_special_requests                           NaN  \n",
       "reservation_status_date                        0.921000  \n",
       "reservation_status_day                        -0.011085  \n",
       "reservation_status_month                      -0.492392  \n",
       "reservation_status_year                        1.000000  "
      ]
     },
     "execution_count": 25,
     "metadata": {},
     "output_type": "execute_result"
    }
   ],
   "source": [
    "data.select_dtypes(exclude='object').drop('is_canceled', axis = 1).corr()"
   ]
  },
  {
   "cell_type": "code",
   "execution_count": 26,
   "id": "064c2b5f",
   "metadata": {},
   "outputs": [
    {
     "data": {
      "text/html": [
       "<div>\n",
       "<style scoped>\n",
       "    .dataframe tbody tr th:only-of-type {\n",
       "        vertical-align: middle;\n",
       "    }\n",
       "\n",
       "    .dataframe tbody tr th {\n",
       "        vertical-align: top;\n",
       "    }\n",
       "\n",
       "    .dataframe thead th {\n",
       "        text-align: right;\n",
       "    }\n",
       "</style>\n",
       "<table border=\"1\" class=\"dataframe\">\n",
       "  <thead>\n",
       "    <tr style=\"text-align: right;\">\n",
       "      <th></th>\n",
       "      <th>is_canceled</th>\n",
       "      <th>lead_time</th>\n",
       "      <th>arrival_date_year</th>\n",
       "      <th>arrival_date_month</th>\n",
       "      <th>arrival_date_week_number</th>\n",
       "      <th>arrival_date_day_of_month</th>\n",
       "      <th>stays_in_weekend_nights</th>\n",
       "      <th>stays_in_week_nights</th>\n",
       "      <th>adults</th>\n",
       "      <th>children</th>\n",
       "      <th>babies</th>\n",
       "      <th>is_repeated_guest</th>\n",
       "      <th>previous_cancellations</th>\n",
       "      <th>previous_bookings_not_canceled</th>\n",
       "      <th>booking_changes</th>\n",
       "      <th>agent</th>\n",
       "      <th>days_in_waiting_list</th>\n",
       "      <th>adr</th>\n",
       "      <th>required_car_parking_spaces</th>\n",
       "      <th>total_of_special_requests</th>\n",
       "      <th>reservation_status_date</th>\n",
       "      <th>reservation_status_day</th>\n",
       "      <th>reservation_status_month</th>\n",
       "      <th>reservation_status_year</th>\n",
       "    </tr>\n",
       "  </thead>\n",
       "  <tbody>\n",
       "    <tr>\n",
       "      <th>is_canceled</th>\n",
       "      <td>1.000000</td>\n",
       "      <td>0.293123</td>\n",
       "      <td>0.000254</td>\n",
       "      <td>0.011022</td>\n",
       "      <td>0.008148</td>\n",
       "      <td>NaN</td>\n",
       "      <td>-0.001791</td>\n",
       "      <td>NaN</td>\n",
       "      <td>NaN</td>\n",
       "      <td>0.005036</td>\n",
       "      <td>NaN</td>\n",
       "      <td>NaN</td>\n",
       "      <td>NaN</td>\n",
       "      <td>NaN</td>\n",
       "      <td>NaN</td>\n",
       "      <td>-0.051711</td>\n",
       "      <td>NaN</td>\n",
       "      <td>0.076816</td>\n",
       "      <td>-0.195498</td>\n",
       "      <td>NaN</td>\n",
       "      <td>-0.165057</td>\n",
       "      <td>-0.034131</td>\n",
       "      <td>-0.068605</td>\n",
       "      <td>-0.117036</td>\n",
       "    </tr>\n",
       "    <tr>\n",
       "      <th>lead_time</th>\n",
       "      <td>0.293123</td>\n",
       "      <td>1.000000</td>\n",
       "      <td>0.030087</td>\n",
       "      <td>0.131424</td>\n",
       "      <td>0.126871</td>\n",
       "      <td>NaN</td>\n",
       "      <td>0.085671</td>\n",
       "      <td>NaN</td>\n",
       "      <td>NaN</td>\n",
       "      <td>-0.037613</td>\n",
       "      <td>NaN</td>\n",
       "      <td>NaN</td>\n",
       "      <td>NaN</td>\n",
       "      <td>NaN</td>\n",
       "      <td>NaN</td>\n",
       "      <td>-0.020967</td>\n",
       "      <td>NaN</td>\n",
       "      <td>0.093459</td>\n",
       "      <td>-0.116451</td>\n",
       "      <td>NaN</td>\n",
       "      <td>-0.072317</td>\n",
       "      <td>-0.007655</td>\n",
       "      <td>0.055905</td>\n",
       "      <td>-0.084754</td>\n",
       "    </tr>\n",
       "    <tr>\n",
       "      <th>arrival_date_year</th>\n",
       "      <td>0.000254</td>\n",
       "      <td>0.030087</td>\n",
       "      <td>1.000000</td>\n",
       "      <td>-0.438955</td>\n",
       "      <td>-0.435017</td>\n",
       "      <td>NaN</td>\n",
       "      <td>-0.001007</td>\n",
       "      <td>NaN</td>\n",
       "      <td>NaN</td>\n",
       "      <td>0.050311</td>\n",
       "      <td>NaN</td>\n",
       "      <td>NaN</td>\n",
       "      <td>NaN</td>\n",
       "      <td>NaN</td>\n",
       "      <td>NaN</td>\n",
       "      <td>0.033072</td>\n",
       "      <td>NaN</td>\n",
       "      <td>0.050237</td>\n",
       "      <td>0.002038</td>\n",
       "      <td>NaN</td>\n",
       "      <td>0.684659</td>\n",
       "      <td>0.036198</td>\n",
       "      <td>-0.311552</td>\n",
       "      <td>0.720287</td>\n",
       "    </tr>\n",
       "    <tr>\n",
       "      <th>arrival_date_month</th>\n",
       "      <td>0.011022</td>\n",
       "      <td>0.131424</td>\n",
       "      <td>-0.438955</td>\n",
       "      <td>1.000000</td>\n",
       "      <td>0.995105</td>\n",
       "      <td>NaN</td>\n",
       "      <td>0.018440</td>\n",
       "      <td>NaN</td>\n",
       "      <td>NaN</td>\n",
       "      <td>0.005437</td>\n",
       "      <td>NaN</td>\n",
       "      <td>NaN</td>\n",
       "      <td>NaN</td>\n",
       "      <td>NaN</td>\n",
       "      <td>NaN</td>\n",
       "      <td>-0.018924</td>\n",
       "      <td>NaN</td>\n",
       "      <td>-0.010676</td>\n",
       "      <td>0.000257</td>\n",
       "      <td>NaN</td>\n",
       "      <td>-0.200689</td>\n",
       "      <td>-0.020058</td>\n",
       "      <td>0.682759</td>\n",
       "      <td>-0.441439</td>\n",
       "    </tr>\n",
       "    <tr>\n",
       "      <th>arrival_date_week_number</th>\n",
       "      <td>0.008148</td>\n",
       "      <td>0.126871</td>\n",
       "      <td>-0.435017</td>\n",
       "      <td>0.995105</td>\n",
       "      <td>1.000000</td>\n",
       "      <td>NaN</td>\n",
       "      <td>0.018208</td>\n",
       "      <td>NaN</td>\n",
       "      <td>NaN</td>\n",
       "      <td>0.005515</td>\n",
       "      <td>NaN</td>\n",
       "      <td>NaN</td>\n",
       "      <td>NaN</td>\n",
       "      <td>NaN</td>\n",
       "      <td>NaN</td>\n",
       "      <td>-0.019919</td>\n",
       "      <td>NaN</td>\n",
       "      <td>-0.010733</td>\n",
       "      <td>0.001920</td>\n",
       "      <td>NaN</td>\n",
       "      <td>-0.212199</td>\n",
       "      <td>0.009862</td>\n",
       "      <td>0.680231</td>\n",
       "      <td>-0.451574</td>\n",
       "    </tr>\n",
       "  </tbody>\n",
       "</table>\n",
       "</div>"
      ],
      "text/plain": [
       "                          is_canceled  lead_time  arrival_date_year  \\\n",
       "is_canceled                  1.000000   0.293123           0.000254   \n",
       "lead_time                    0.293123   1.000000           0.030087   \n",
       "arrival_date_year            0.000254   0.030087           1.000000   \n",
       "arrival_date_month           0.011022   0.131424          -0.438955   \n",
       "arrival_date_week_number     0.008148   0.126871          -0.435017   \n",
       "\n",
       "                          arrival_date_month  arrival_date_week_number  \\\n",
       "is_canceled                         0.011022                  0.008148   \n",
       "lead_time                           0.131424                  0.126871   \n",
       "arrival_date_year                  -0.438955                 -0.435017   \n",
       "arrival_date_month                  1.000000                  0.995105   \n",
       "arrival_date_week_number            0.995105                  1.000000   \n",
       "\n",
       "                          arrival_date_day_of_month  stays_in_weekend_nights  \\\n",
       "is_canceled                                     NaN                -0.001791   \n",
       "lead_time                                       NaN                 0.085671   \n",
       "arrival_date_year                               NaN                -0.001007   \n",
       "arrival_date_month                              NaN                 0.018440   \n",
       "arrival_date_week_number                        NaN                 0.018208   \n",
       "\n",
       "                          stays_in_week_nights  adults  children  babies  \\\n",
       "is_canceled                                NaN     NaN  0.005036     NaN   \n",
       "lead_time                                  NaN     NaN -0.037613     NaN   \n",
       "arrival_date_year                          NaN     NaN  0.050311     NaN   \n",
       "arrival_date_month                         NaN     NaN  0.005437     NaN   \n",
       "arrival_date_week_number                   NaN     NaN  0.005515     NaN   \n",
       "\n",
       "                          is_repeated_guest  previous_cancellations  \\\n",
       "is_canceled                             NaN                     NaN   \n",
       "lead_time                               NaN                     NaN   \n",
       "arrival_date_year                       NaN                     NaN   \n",
       "arrival_date_month                      NaN                     NaN   \n",
       "arrival_date_week_number                NaN                     NaN   \n",
       "\n",
       "                          previous_bookings_not_canceled  booking_changes  \\\n",
       "is_canceled                                          NaN              NaN   \n",
       "lead_time                                            NaN              NaN   \n",
       "arrival_date_year                                    NaN              NaN   \n",
       "arrival_date_month                                   NaN              NaN   \n",
       "arrival_date_week_number                             NaN              NaN   \n",
       "\n",
       "                             agent  days_in_waiting_list       adr  \\\n",
       "is_canceled              -0.051711                   NaN  0.076816   \n",
       "lead_time                -0.020967                   NaN  0.093459   \n",
       "arrival_date_year         0.033072                   NaN  0.050237   \n",
       "arrival_date_month       -0.018924                   NaN -0.010676   \n",
       "arrival_date_week_number -0.019919                   NaN -0.010733   \n",
       "\n",
       "                          required_car_parking_spaces  \\\n",
       "is_canceled                                 -0.195498   \n",
       "lead_time                                   -0.116451   \n",
       "arrival_date_year                            0.002038   \n",
       "arrival_date_month                           0.000257   \n",
       "arrival_date_week_number                     0.001920   \n",
       "\n",
       "                          total_of_special_requests  reservation_status_date  \\\n",
       "is_canceled                                     NaN                -0.165057   \n",
       "lead_time                                       NaN                -0.072317   \n",
       "arrival_date_year                               NaN                 0.684659   \n",
       "arrival_date_month                              NaN                -0.200689   \n",
       "arrival_date_week_number                        NaN                -0.212199   \n",
       "\n",
       "                          reservation_status_day  reservation_status_month  \\\n",
       "is_canceled                            -0.034131                 -0.068605   \n",
       "lead_time                              -0.007655                  0.055905   \n",
       "arrival_date_year                       0.036198                 -0.311552   \n",
       "arrival_date_month                     -0.020058                  0.682759   \n",
       "arrival_date_week_number                0.009862                  0.680231   \n",
       "\n",
       "                          reservation_status_year  \n",
       "is_canceled                             -0.117036  \n",
       "lead_time                               -0.084754  \n",
       "arrival_date_year                        0.720287  \n",
       "arrival_date_month                      -0.441439  \n",
       "arrival_date_week_number                -0.451574  "
      ]
     },
     "execution_count": 26,
     "metadata": {},
     "output_type": "execute_result"
    }
   ],
   "source": [
    "data.select_dtypes(exclude='object').corr().head()"
   ]
  },
  {
   "cell_type": "code",
   "execution_count": 27,
   "id": "bb69c5cb",
   "metadata": {},
   "outputs": [],
   "source": [
    "uncorr_columne = [\n",
    "    \"arrival_date_day_of_month\",\"stays_in_week_nights\",\"adults\",\"babies\",\"is_repeated_guest\",\"previous_cancellations\",\"previous_bookings_not_canceled\",\n",
    "    \"booking_changes\",\"days_in_waiting_list\" , \"total_of_special_requests\"\n",
    "]\n",
    "\n",
    "\n",
    "data.drop(uncorr_columne , axis = 1 , inplace = True)"
   ]
  },
  {
   "cell_type": "markdown",
   "id": "3069337b",
   "metadata": {},
   "source": [
    "### Treating categorical features"
   ]
  },
  {
   "cell_type": "code",
   "execution_count": 28,
   "id": "76de17a4",
   "metadata": {
    "scrolled": false
   },
   "outputs": [
    {
     "data": {
      "image/png": "[encoded data removed]",
      "text/plain": [
       "<Figure size 640x480 with 1 Axes>"
      ]
     },
     "metadata": {},
     "output_type": "display_data"
    },
    {
     "data": {
      "image/png": "[encoded data removed]",
      "text/plain": [
       "<Figure size 640x480 with 1 Axes>"
      ]
     },
     "metadata": {},
     "output_type": "display_data"
    },
    {
     "data": {
      "image/png": "[encoded data removed]",
      "text/plain": [
       "<Figure size 640x480 with 1 Axes>"
      ]
     },
     "metadata": {},
     "output_type": "display_data"
    },
    {
     "data": {
      "image/png": "[encoded data removed]",
      "text/plain": [
       "<Figure size 640x480 with 1 Axes>"
      ]
     },
     "metadata": {},
     "output_type": "display_data"
    },
    {
     "data": {
      "image/png": "[encoded data removed]",
      "text/plain": [
       "<Figure size 640x480 with 1 Axes>"
      ]
     },
     "metadata": {},
     "output_type": "display_data"
    },
    {
     "data": {
      "image/png": "[encoded data removed]",
      "text/plain": [
       "<Figure size 640x480 with 1 Axes>"
      ]
     },
     "metadata": {},
     "output_type": "display_data"
    },
    {
     "data": {
      "image/png": "[encoded data removed]",
      "text/plain": [
       "<Figure size 640x480 with 1 Axes>"
      ]
     },
     "metadata": {},
     "output_type": "display_data"
    },
    {
     "data": {
      "image/png": "[encoded data removed]",
      "text/plain": [
       "<Figure size 640x480 with 1 Axes>"
      ]
     },
     "metadata": {},
     "output_type": "display_data"
    },
    {
     "data": {
      "image/png": "[encoded data removed]",
      "text/plain": [
       "<Figure size 640x480 with 1 Axes>"
      ]
     },
     "metadata": {},
     "output_type": "display_data"
    },
    {
     "data": {
      "image/png": "[encoded data removed]",
      "text/plain": [
       "<Figure size 640x480 with 1 Axes>"
      ]
     },
     "metadata": {},
     "output_type": "display_data"
    }
   ],
   "source": [
    "\n",
    "for column in data.select_dtypes(exclude=np.number):\n",
    "    sns.countplot(x = column , hue = \"is_canceled\" , data = data)\n",
    "    plt.show()"
   ]
  },
  {
   "cell_type": "code",
   "execution_count": 29,
   "id": "ea885346",
   "metadata": {
    "scrolled": false
   },
   "outputs": [],
   "source": [
    "\n",
    "# for column in label_encoding:\n",
    "#     sns.countplot(x = column , hue = \"is_canceled\" , data = data)\n",
    "#     plt.show()"
   ]
  },
  {
   "cell_type": "code",
   "execution_count": 30,
   "id": "90fd8bee",
   "metadata": {},
   "outputs": [
    {
     "name": "stdout",
     "output_type": "stream",
     "text": [
      "--------------------------------------------------------------------\n",
      "hotel ['Resort Hotel' 'City Hotel']\n",
      "--------------------------------------------------------------------\n",
      "meal ['BB' 'FB' 'HB' 'SC' 'Undefined']\n",
      "--------------------------------------------------------------------\n",
      "market_segment ['Direct' 'Corporate' 'Online TA' 'Offline TA/TO' 'Complementary' 'Groups'\n",
      " 'Undefined' 'Aviation']\n",
      "--------------------------------------------------------------------\n",
      "distribution_channel ['Direct' 'Corporate' 'TA/TO' 'Undefined' 'GDS']\n",
      "--------------------------------------------------------------------\n",
      "deposit_type ['No Deposit' 'Refundable' 'Non Refund']\n",
      "--------------------------------------------------------------------\n",
      "customer_type ['Transient' 'Contract' 'Transient-Party' 'Group']\n",
      "--------------------------------------------------------------------\n",
      "reserved_room_type ['C' 'A' 'D' 'E' 'G' 'F' 'H' 'L' 'P' 'B']\n",
      "--------------------------------------------------------------------\n",
      "assigned_room_type ['C' 'A' 'D' 'E' 'G' 'F' 'I' 'B' 'H' 'P' 'L' 'K']\n"
     ]
    }
   ],
   "source": [
    "label_encoding = ['hotel' ,'meal', 'market_segment', 'distribution_channel', 'deposit_type' , 'customer_type', \n",
    "                 \"reserved_room_type\" , \"assigned_room_type\" ]\n",
    "for i in label_encoding:\n",
    "    print(\"-----------------\"*4)\n",
    "    print(i , data[i].unique())"
   ]
  },
  {
   "cell_type": "code",
   "execution_count": 31,
   "id": "40573643",
   "metadata": {},
   "outputs": [],
   "source": [
    "data = pd.get_dummies(data , columns = label_encoding , drop_first=True , dtype= int)"
   ]
  },
  {
   "cell_type": "code",
   "execution_count": 32,
   "id": "2ec132e4",
   "metadata": {},
   "outputs": [
    {
     "name": "stdout",
     "output_type": "stream",
     "text": [
      "<class 'pandas.core.frame.DataFrame'>\n",
      "RangeIndex: 119390 entries, 0 to 119389\n",
      "Data columns (total 56 columns):\n",
      " #   Column                          Non-Null Count   Dtype         \n",
      "---  ------                          --------------   -----         \n",
      " 0   is_canceled                     119390 non-null  int64         \n",
      " 1   lead_time                       119390 non-null  int32         \n",
      " 2   arrival_date_year               119390 non-null  float64       \n",
      " 3   arrival_date_month              119390 non-null  int64         \n",
      " 4   arrival_date_week_number        119390 non-null  int32         \n",
      " 5   stays_in_weekend_nights         119390 non-null  int32         \n",
      " 6   children                        119390 non-null  int32         \n",
      " 7   country                         119390 non-null  object        \n",
      " 8   agent                           119390 non-null  int32         \n",
      " 9   adr                             119390 non-null  float64       \n",
      " 10  required_car_parking_spaces     119390 non-null  int32         \n",
      " 11  reservation_status_date         119390 non-null  datetime64[ns]\n",
      " 12  reservation_status_day          119390 non-null  int32         \n",
      " 13  reservation_status_month        119390 non-null  int32         \n",
      " 14  reservation_status_year         119390 non-null  int32         \n",
      " 15  hotel_Resort Hotel              119390 non-null  int32         \n",
      " 16  meal_FB                         119390 non-null  int32         \n",
      " 17  meal_HB                         119390 non-null  int32         \n",
      " 18  meal_SC                         119390 non-null  int32         \n",
      " 19  meal_Undefined                  119390 non-null  int32         \n",
      " 20  market_segment_Complementary    119390 non-null  int32         \n",
      " 21  market_segment_Corporate        119390 non-null  int32         \n",
      " 22  market_segment_Direct           119390 non-null  int32         \n",
      " 23  market_segment_Groups           119390 non-null  int32         \n",
      " 24  market_segment_Offline TA/TO    119390 non-null  int32         \n",
      " 25  market_segment_Online TA        119390 non-null  int32         \n",
      " 26  market_segment_Undefined        119390 non-null  int32         \n",
      " 27  distribution_channel_Direct     119390 non-null  int32         \n",
      " 28  distribution_channel_GDS        119390 non-null  int32         \n",
      " 29  distribution_channel_TA/TO      119390 non-null  int32         \n",
      " 30  distribution_channel_Undefined  119390 non-null  int32         \n",
      " 31  deposit_type_Non Refund         119390 non-null  int32         \n",
      " 32  deposit_type_Refundable         119390 non-null  int32         \n",
      " 33  customer_type_Group             119390 non-null  int32         \n",
      " 34  customer_type_Transient         119390 non-null  int32         \n",
      " 35  customer_type_Transient-Party   119390 non-null  int32         \n",
      " 36  reserved_room_type_B            119390 non-null  int32         \n",
      " 37  reserved_room_type_C            119390 non-null  int32         \n",
      " 38  reserved_room_type_D            119390 non-null  int32         \n",
      " 39  reserved_room_type_E            119390 non-null  int32         \n",
      " 40  reserved_room_type_F            119390 non-null  int32         \n",
      " 41  reserved_room_type_G            119390 non-null  int32         \n",
      " 42  reserved_room_type_H            119390 non-null  int32         \n",
      " 43  reserved_room_type_L            119390 non-null  int32         \n",
      " 44  reserved_room_type_P            119390 non-null  int32         \n",
      " 45  assigned_room_type_B            119390 non-null  int32         \n",
      " 46  assigned_room_type_C            119390 non-null  int32         \n",
      " 47  assigned_room_type_D            119390 non-null  int32         \n",
      " 48  assigned_room_type_E            119390 non-null  int32         \n",
      " 49  assigned_room_type_F            119390 non-null  int32         \n",
      " 50  assigned_room_type_G            119390 non-null  int32         \n",
      " 51  assigned_room_type_H            119390 non-null  int32         \n",
      " 52  assigned_room_type_I            119390 non-null  int32         \n",
      " 53  assigned_room_type_K            119390 non-null  int32         \n",
      " 54  assigned_room_type_L            119390 non-null  int32         \n",
      " 55  assigned_room_type_P            119390 non-null  int32         \n",
      "dtypes: datetime64[ns](1), float64(2), int32(50), int64(2), object(1)\n",
      "memory usage: 28.2+ MB\n"
     ]
    }
   ],
   "source": [
    "data.info()"
   ]
  },
  {
   "cell_type": "code",
   "execution_count": 33,
   "id": "df7cbba3",
   "metadata": {},
   "outputs": [],
   "source": [
    "data.drop([\"reservation_status_date\"] , axis = 1 , inplace = True)"
   ]
  },
  {
   "cell_type": "code",
   "execution_count": 35,
   "id": "d3ab9a1c",
   "metadata": {
    "scrolled": false
   },
   "outputs": [],
   "source": [
    "def boxplot(column):\n",
    "    sns.displot(column , kind = 'kde')\n",
    "    \n",
    "for column in data:\n",
    "    boxplot(data[column])"
   ]
  },
  {
   "cell_type": "code",
   "execution_count": 36,
   "id": "2c715732",
   "metadata": {},
   "outputs": [
    {
     "data": {
      "text/plain": [
       "Index(['is_canceled', 'lead_time', 'arrival_date_year', 'arrival_date_month',\n",
       "       'arrival_date_week_number', 'stays_in_weekend_nights', 'children',\n",
       "       'country', 'agent', 'adr', 'required_car_parking_spaces',\n",
       "       'reservation_status_day', 'reservation_status_month',\n",
       "       'reservation_status_year', 'hotel_Resort Hotel', 'meal_FB', 'meal_HB',\n",
       "       'meal_SC', 'meal_Undefined', 'market_segment_Complementary',\n",
       "       'market_segment_Corporate', 'market_segment_Direct',\n",
       "       'market_segment_Groups', 'market_segment_Offline TA/TO',\n",
       "       'market_segment_Online TA', 'market_segment_Undefined',\n",
       "       'distribution_channel_Direct', 'distribution_channel_GDS',\n",
       "       'distribution_channel_TA/TO', 'distribution_channel_Undefined',\n",
       "       'deposit_type_Non Refund', 'deposit_type_Refundable',\n",
       "       'customer_type_Group', 'customer_type_Transient',\n",
       "       'customer_type_Transient-Party', 'reserved_room_type_B',\n",
       "       'reserved_room_type_C', 'reserved_room_type_D', 'reserved_room_type_E',\n",
       "       'reserved_room_type_F', 'reserved_room_type_G', 'reserved_room_type_H',\n",
       "       'reserved_room_type_L', 'reserved_room_type_P', 'assigned_room_type_B',\n",
       "       'assigned_room_type_C', 'assigned_room_type_D', 'assigned_room_type_E',\n",
       "       'assigned_room_type_F', 'assigned_room_type_G', 'assigned_room_type_H',\n",
       "       'assigned_room_type_I', 'assigned_room_type_K', 'assigned_room_type_L',\n",
       "       'assigned_room_type_P'],\n",
       "      dtype='object')"
      ]
     },
     "execution_count": 36,
     "metadata": {},
     "output_type": "execute_result"
    }
   ],
   "source": [
    "data.columns"
   ]
  },
  {
   "cell_type": "markdown",
   "id": "30e5219f",
   "metadata": {},
   "source": [
    "### Spliting Data into Train and Test"
   ]
  },
  {
   "cell_type": "code",
   "execution_count": 37,
   "id": "6d9a0018",
   "metadata": {},
   "outputs": [],
   "source": [
    "x = data.drop([\"is_canceled\"] , axis = 1)\n",
    "y = data[\"is_canceled\"]"
   ]
  },
  {
   "cell_type": "code",
   "execution_count": 38,
   "id": "cf090662",
   "metadata": {},
   "outputs": [
    {
     "data": {
      "text/plain": [
       "Index(['lead_time', 'arrival_date_year', 'arrival_date_month',\n",
       "       'arrival_date_week_number', 'stays_in_weekend_nights', 'children',\n",
       "       'country', 'agent', 'adr', 'required_car_parking_spaces',\n",
       "       'reservation_status_day', 'reservation_status_month',\n",
       "       'reservation_status_year', 'hotel_Resort Hotel', 'meal_FB', 'meal_HB',\n",
       "       'meal_SC', 'meal_Undefined', 'market_segment_Complementary',\n",
       "       'market_segment_Corporate', 'market_segment_Direct',\n",
       "       'market_segment_Groups', 'market_segment_Offline TA/TO',\n",
       "       'market_segment_Online TA', 'market_segment_Undefined',\n",
       "       'distribution_channel_Direct', 'distribution_channel_GDS',\n",
       "       'distribution_channel_TA/TO', 'distribution_channel_Undefined',\n",
       "       'deposit_type_Non Refund', 'deposit_type_Refundable',\n",
       "       'customer_type_Group', 'customer_type_Transient',\n",
       "       'customer_type_Transient-Party', 'reserved_room_type_B',\n",
       "       'reserved_room_type_C', 'reserved_room_type_D', 'reserved_room_type_E',\n",
       "       'reserved_room_type_F', 'reserved_room_type_G', 'reserved_room_type_H',\n",
       "       'reserved_room_type_L', 'reserved_room_type_P', 'assigned_room_type_B',\n",
       "       'assigned_room_type_C', 'assigned_room_type_D', 'assigned_room_type_E',\n",
       "       'assigned_room_type_F', 'assigned_room_type_G', 'assigned_room_type_H',\n",
       "       'assigned_room_type_I', 'assigned_room_type_K', 'assigned_room_type_L',\n",
       "       'assigned_room_type_P'],\n",
       "      dtype='object')"
      ]
     },
     "execution_count": 38,
     "metadata": {},
     "output_type": "execute_result"
    }
   ],
   "source": [
    "x.columns"
   ]
  },
  {
   "cell_type": "code",
   "execution_count": 39,
   "id": "c5d2e7f8",
   "metadata": {},
   "outputs": [],
   "source": [
    "from sklearn.model_selection import train_test_split\n",
    "x_train , y_train , x_test , y_test = train_test_split( x , y , train_size=0.7 , random_state= 42 , stratify=y)"
   ]
  },
  {
   "cell_type": "code",
   "execution_count": 40,
   "id": "8d705255",
   "metadata": {},
   "outputs": [
    {
     "data": {
      "text/plain": [
       "((83573, 54), (83573,))"
      ]
     },
     "execution_count": 40,
     "metadata": {},
     "output_type": "execute_result"
    }
   ],
   "source": [
    "x_train.shape , x_test.shape \n"
   ]
  },
  {
   "cell_type": "code",
   "execution_count": 41,
   "id": "5019505e",
   "metadata": {},
   "outputs": [
    {
     "data": {
      "text/plain": [
       "((35817, 54), (35817,))"
      ]
     },
     "execution_count": 41,
     "metadata": {},
     "output_type": "execute_result"
    }
   ],
   "source": [
    "y_train.shape , y_test.shape \n"
   ]
  },
  {
   "cell_type": "code",
   "execution_count": 42,
   "id": "df03812a",
   "metadata": {},
   "outputs": [
    {
     "data": {
      "text/plain": [
       "is_canceled\n",
       "0    62.958132\n",
       "1    37.041868\n",
       "Name: count, dtype: float64"
      ]
     },
     "execution_count": 42,
     "metadata": {},
     "output_type": "execute_result"
    }
   ],
   "source": [
    "x_test.value_counts()/len(x_test)*100"
   ]
  },
  {
   "cell_type": "code",
   "execution_count": 43,
   "id": "52bd1a23",
   "metadata": {},
   "outputs": [
    {
     "data": {
      "text/plain": [
       "is_canceled\n",
       "0    62.95893\n",
       "1    37.04107\n",
       "Name: count, dtype: float64"
      ]
     },
     "execution_count": 43,
     "metadata": {},
     "output_type": "execute_result"
    }
   ],
   "source": [
    "y_test.value_counts()/len(y_test)*100"
   ]
  },
  {
   "cell_type": "code",
   "execution_count": 44,
   "id": "b2b7656c",
   "metadata": {
    "scrolled": true
   },
   "outputs": [
    {
     "data": {
      "text/html": [
       "<style>#sk-container-id-1 {color: black;}#sk-container-id-1 pre{padding: 0;}#sk-container-id-1 div.sk-toggleable {background-color: white;}#sk-container-id-1 label.sk-toggleable__label {cursor: pointer;display: block;width: 100%;margin-bottom: 0;padding: 0.3em;box-sizing: border-box;text-align: center;}#sk-container-id-1 label.sk-toggleable__label-arrow:before {content: \"▸\";float: left;margin-right: 0.25em;color: #696969;}#sk-container-id-1 label.sk-toggleable__label-arrow:hover:before {color: black;}#sk-container-id-1 div.sk-estimator:hover label.sk-toggleable__label-arrow:before {color: black;}#sk-container-id-1 div.sk-toggleable__content {max-height: 0;max-width: 0;overflow: hidden;text-align: left;background-color: #f0f8ff;}#sk-container-id-1 div.sk-toggleable__content pre {margin: 0.2em;color: black;border-radius: 0.25em;background-color: #f0f8ff;}#sk-container-id-1 input.sk-toggleable__control:checked~div.sk-toggleable__content {max-height: 200px;max-width: 100%;overflow: auto;}#sk-container-id-1 input.sk-toggleable__control:checked~label.sk-toggleable__label-arrow:before {content: \"▾\";}#sk-container-id-1 div.sk-estimator input.sk-toggleable__control:checked~label.sk-toggleable__label {background-color: #d4ebff;}#sk-container-id-1 div.sk-label input.sk-toggleable__control:checked~label.sk-toggleable__label {background-color: #d4ebff;}#sk-container-id-1 input.sk-hidden--visually {border: 0;clip: rect(1px 1px 1px 1px);clip: rect(1px, 1px, 1px, 1px);height: 1px;margin: -1px;overflow: hidden;padding: 0;position: absolute;width: 1px;}#sk-container-id-1 div.sk-estimator {font-family: monospace;background-color: #f0f8ff;border: 1px dotted black;border-radius: 0.25em;box-sizing: border-box;margin-bottom: 0.5em;}#sk-container-id-1 div.sk-estimator:hover {background-color: #d4ebff;}#sk-container-id-1 div.sk-parallel-item::after {content: \"\";width: 100%;border-bottom: 1px solid gray;flex-grow: 1;}#sk-container-id-1 div.sk-label:hover label.sk-toggleable__label {background-color: #d4ebff;}#sk-container-id-1 div.sk-serial::before {content: \"\";position: absolute;border-left: 1px solid gray;box-sizing: border-box;top: 0;bottom: 0;left: 50%;z-index: 0;}#sk-container-id-1 div.sk-serial {display: flex;flex-direction: column;align-items: center;background-color: white;padding-right: 0.2em;padding-left: 0.2em;position: relative;}#sk-container-id-1 div.sk-item {position: relative;z-index: 1;}#sk-container-id-1 div.sk-parallel {display: flex;align-items: stretch;justify-content: center;background-color: white;position: relative;}#sk-container-id-1 div.sk-item::before, #sk-container-id-1 div.sk-parallel-item::before {content: \"\";position: absolute;border-left: 1px solid gray;box-sizing: border-box;top: 0;bottom: 0;left: 50%;z-index: -1;}#sk-container-id-1 div.sk-parallel-item {display: flex;flex-direction: column;z-index: 1;position: relative;background-color: white;}#sk-container-id-1 div.sk-parallel-item:first-child::after {align-self: flex-end;width: 50%;}#sk-container-id-1 div.sk-parallel-item:last-child::after {align-self: flex-start;width: 50%;}#sk-container-id-1 div.sk-parallel-item:only-child::after {width: 0;}#sk-container-id-1 div.sk-dashed-wrapped {border: 1px dashed gray;margin: 0 0.4em 0.5em 0.4em;box-sizing: border-box;padding-bottom: 0.4em;background-color: white;}#sk-container-id-1 div.sk-label label {font-family: monospace;font-weight: bold;display: inline-block;line-height: 1.2em;}#sk-container-id-1 div.sk-label-container {text-align: center;}#sk-container-id-1 div.sk-container {/* jupyter's `normalize.less` sets `[hidden] { display: none; }` but bootstrap.min.css set `[hidden] { display: none !important; }` so we also need the `!important` here to be able to override the default hidden behavior on the sphinx rendered scikit-learn.org. See: https://github.com/scikit-learn/scikit-learn/issues/21755 */display: inline-block !important;position: relative;}#sk-container-id-1 div.sk-text-repr-fallback {display: none;}</style><div id=\"sk-container-id-1\" class=\"sk-top-container\"><div class=\"sk-text-repr-fallback\"><pre>LogisticRegression(max_iter=1000)</pre><b>In a Jupyter environment, please rerun this cell to show the HTML representation or trust the notebook. <br />On GitHub, the HTML representation is unable to render, please try loading this page with nbviewer.org.</b></div><div class=\"sk-container\" hidden><div class=\"sk-item\"><div class=\"sk-estimator sk-toggleable\"><input class=\"sk-toggleable__control sk-hidden--visually\" id=\"sk-estimator-id-1\" type=\"checkbox\" checked><label for=\"sk-estimator-id-1\" class=\"sk-toggleable__label sk-toggleable__label-arrow\">LogisticRegression</label><div class=\"sk-toggleable__content\"><pre>LogisticRegression(max_iter=1000)</pre></div></div></div></div></div>"
      ],
      "text/plain": [
       "LogisticRegression(max_iter=1000)"
      ]
     },
     "execution_count": 44,
     "metadata": {},
     "output_type": "execute_result"
    }
   ],
   "source": [
    "from sklearn.linear_model import LogisticRegression\n",
    "\n",
    "lr = LogisticRegression(max_iter=1000)\n",
    "lr.fit(x_train , x_test)"
   ]
  },
  {
   "cell_type": "code",
   "execution_count": 45,
   "id": "0540749d",
   "metadata": {},
   "outputs": [],
   "source": [
    "train_predict = lr.predict(x_train)\n",
    "test_predict = lr.predict(y_train)"
   ]
  },
  {
   "cell_type": "code",
   "execution_count": 46,
   "id": "3eb65adf",
   "metadata": {},
   "outputs": [
    {
     "name": "stdout",
     "output_type": "stream",
     "text": [
      "train confusion matrix  \n",
      " [[47409 12496]\n",
      " [ 5207 18461]]\n",
      "test confusion matrix \n",
      " [[20339  5443]\n",
      " [ 2211  7824]]\n",
      "\n",
      "train accuracy \n",
      " 0.7881732138370048\n",
      "test accuracy \n",
      " 0.7863025937404026\n",
      "\n",
      "train classfication repot \n",
      "               precision    recall  f1-score   support\n",
      "\n",
      "           0       0.90      0.79      0.84     59905\n",
      "           1       0.60      0.78      0.68     23668\n",
      "\n",
      "    accuracy                           0.79     83573\n",
      "   macro avg       0.75      0.79      0.76     83573\n",
      "weighted avg       0.81      0.79      0.80     83573\n",
      "\n",
      "\n",
      "test classfication repot \n",
      "               precision    recall  f1-score   support\n",
      "\n",
      "           0       0.90      0.79      0.84     25782\n",
      "           1       0.59      0.78      0.67     10035\n",
      "\n",
      "    accuracy                           0.79     35817\n",
      "   macro avg       0.75      0.78      0.76     35817\n",
      "weighted avg       0.81      0.79      0.79     35817\n",
      "\n",
      "\n"
     ]
    }
   ],
   "source": [
    "from sklearn.metrics import confusion_matrix , accuracy_score , classification_report\n",
    "\n",
    "print(\"train confusion matrix  \\n\", confusion_matrix(train_predict , x_test))\n",
    "\n",
    "print(\"test confusion matrix \\n\", confusion_matrix(test_predict , y_test))\n",
    "print()\n",
    "\n",
    "print(\"train accuracy \\n\", accuracy_score(train_predict , x_test))\n",
    "print(\"test accuracy \\n\",accuracy_score(test_predict , y_test))\n",
    "print() \n",
    "\n",
    "\n",
    "\n",
    "print(\"train classfication repot \\n\" , classification_report(train_predict , x_test))\n",
    "\n",
    "\n",
    "print()\n",
    "\n",
    "\n",
    "\n",
    "\n",
    "print(\"test classfication repot \\n\" , classification_report(test_predict , y_test))\n",
    "print()\n"
   ]
  },
  {
   "cell_type": "code",
   "execution_count": 47,
   "id": "64adc56b",
   "metadata": {},
   "outputs": [
    {
     "data": {
      "text/plain": [
       "<Axes: ylabel='Density'>"
      ]
     },
     "execution_count": 47,
     "metadata": {},
     "output_type": "execute_result"
    },
    {
     "data": {
      "image/png": "[encoded data removed]",
      "text/plain": [
       "<Figure size 640x480 with 1 Axes>"
      ]
     },
     "metadata": {},
     "output_type": "display_data"
    }
   ],
   "source": [
    "sns.distplot(train_predict)"
   ]
  },
  {
   "cell_type": "code",
   "execution_count": 48,
   "id": "56c677f5",
   "metadata": {},
   "outputs": [
    {
     "data": {
      "text/plain": [
       "<Axes: xlabel='is_canceled', ylabel='Density'>"
      ]
     },
     "execution_count": 48,
     "metadata": {},
     "output_type": "execute_result"
    },
    {
     "data": {
      "image/png": "[encoded data removed]",
      "text/plain": [
       "<Figure size 640x480 with 1 Axes>"
      ]
     },
     "metadata": {},
     "output_type": "display_data"
    }
   ],
   "source": [
    "sns.distplot(x_test )"
   ]
  },
  {
   "cell_type": "code",
   "execution_count": 49,
   "id": "6a94e956",
   "metadata": {
    "scrolled": false
   },
   "outputs": [
    {
     "name": "stderr",
     "output_type": "stream",
     "text": [
      "No artists with labels found to put in legend.  Note that artists whose label start with an underscore are ignored when legend() is called with no argument.\n"
     ]
    },
    {
     "data": {
      "text/plain": [
       "<matplotlib.legend.Legend at 0x1aa718f9d10>"
      ]
     },
     "execution_count": 49,
     "metadata": {},
     "output_type": "execute_result"
    },
    {
     "data": {
      "image/png": "[encoded data removed]",
      "text/plain": [
       "<Figure size 640x480 with 1 Axes>"
      ]
     },
     "metadata": {},
     "output_type": "display_data"
    }
   ],
   "source": [
    "import matplotlib.pyplot as plt\n",
    "\n",
    "plt.plot(train_predict )\n",
    "plt.plot(x_test )\n",
    "\n",
    "plt.legend()"
   ]
  },
  {
   "cell_type": "code",
   "execution_count": 50,
   "id": "077bfff9",
   "metadata": {},
   "outputs": [
    {
     "name": "stderr",
     "output_type": "stream",
     "text": [
      "No artists with labels found to put in legend.  Note that artists whose label start with an underscore are ignored when legend() is called with no argument.\n"
     ]
    },
    {
     "data": {
      "text/plain": [
       "<matplotlib.legend.Legend at 0x1aa6d281550>"
      ]
     },
     "execution_count": 50,
     "metadata": {},
     "output_type": "execute_result"
    },
    {
     "data": {
      "image/png": "[encoded data removed]",
      "text/plain": [
       "<Figure size 640x480 with 1 Axes>"
      ]
     },
     "metadata": {},
     "output_type": "display_data"
    }
   ],
   "source": [
    "plt.plot(test_predict )\n",
    "plt.plot(y_test)\n",
    "\n",
    "plt.legend()"
   ]
  },
  {
   "cell_type": "code",
   "execution_count": 51,
   "id": "339f2f9e",
   "metadata": {},
   "outputs": [
    {
     "data": {
      "text/plain": [
       "[<matplotlib.lines.Line2D at 0x1aa6e162210>]"
      ]
     },
     "execution_count": 51,
     "metadata": {},
     "output_type": "execute_result"
    },
    {
     "data": {
      "image/png": "[encoded data removed]",
      "text/plain": [
       "<Figure size 640x480 with 1 Axes>"
      ]
     },
     "metadata": {},
     "output_type": "display_data"
    }
   ],
   "source": [
    "from sklearn import metrics \n",
    "\n",
    "false_rate,true_rate,threshold=metrics.roc_curve(y_test,test_predict)\n",
    "\n",
    "plt.plot(false_rate,true_rate)"
   ]
  },
  {
   "cell_type": "code",
   "execution_count": 52,
   "id": "c95cc834",
   "metadata": {},
   "outputs": [
    {
     "data": {
      "text/plain": [
       "0.7458425728977272"
      ]
     },
     "execution_count": 52,
     "metadata": {},
     "output_type": "execute_result"
    }
   ],
   "source": [
    "metrics.auc(false_rate,true_rate)"
   ]
  },
  {
   "cell_type": "code",
   "execution_count": null,
   "id": "6258cede",
   "metadata": {},
   "outputs": [],
   "source": []
  },
  {
   "cell_type": "code",
   "execution_count": 53,
   "id": "37e32ce5",
   "metadata": {},
   "outputs": [
    {
     "data": {
      "text/html": [
       "<style>#sk-container-id-2 {color: black;}#sk-container-id-2 pre{padding: 0;}#sk-container-id-2 div.sk-toggleable {background-color: white;}#sk-container-id-2 label.sk-toggleable__label {cursor: pointer;display: block;width: 100%;margin-bottom: 0;padding: 0.3em;box-sizing: border-box;text-align: center;}#sk-container-id-2 label.sk-toggleable__label-arrow:before {content: \"▸\";float: left;margin-right: 0.25em;color: #696969;}#sk-container-id-2 label.sk-toggleable__label-arrow:hover:before {color: black;}#sk-container-id-2 div.sk-estimator:hover label.sk-toggleable__label-arrow:before {color: black;}#sk-container-id-2 div.sk-toggleable__content {max-height: 0;max-width: 0;overflow: hidden;text-align: left;background-color: #f0f8ff;}#sk-container-id-2 div.sk-toggleable__content pre {margin: 0.2em;color: black;border-radius: 0.25em;background-color: #f0f8ff;}#sk-container-id-2 input.sk-toggleable__control:checked~div.sk-toggleable__content {max-height: 200px;max-width: 100%;overflow: auto;}#sk-container-id-2 input.sk-toggleable__control:checked~label.sk-toggleable__label-arrow:before {content: \"▾\";}#sk-container-id-2 div.sk-estimator input.sk-toggleable__control:checked~label.sk-toggleable__label {background-color: #d4ebff;}#sk-container-id-2 div.sk-label input.sk-toggleable__control:checked~label.sk-toggleable__label {background-color: #d4ebff;}#sk-container-id-2 input.sk-hidden--visually {border: 0;clip: rect(1px 1px 1px 1px);clip: rect(1px, 1px, 1px, 1px);height: 1px;margin: -1px;overflow: hidden;padding: 0;position: absolute;width: 1px;}#sk-container-id-2 div.sk-estimator {font-family: monospace;background-color: #f0f8ff;border: 1px dotted black;border-radius: 0.25em;box-sizing: border-box;margin-bottom: 0.5em;}#sk-container-id-2 div.sk-estimator:hover {background-color: #d4ebff;}#sk-container-id-2 div.sk-parallel-item::after {content: \"\";width: 100%;border-bottom: 1px solid gray;flex-grow: 1;}#sk-container-id-2 div.sk-label:hover label.sk-toggleable__label {background-color: #d4ebff;}#sk-container-id-2 div.sk-serial::before {content: \"\";position: absolute;border-left: 1px solid gray;box-sizing: border-box;top: 0;bottom: 0;left: 50%;z-index: 0;}#sk-container-id-2 div.sk-serial {display: flex;flex-direction: column;align-items: center;background-color: white;padding-right: 0.2em;padding-left: 0.2em;position: relative;}#sk-container-id-2 div.sk-item {position: relative;z-index: 1;}#sk-container-id-2 div.sk-parallel {display: flex;align-items: stretch;justify-content: center;background-color: white;position: relative;}#sk-container-id-2 div.sk-item::before, #sk-container-id-2 div.sk-parallel-item::before {content: \"\";position: absolute;border-left: 1px solid gray;box-sizing: border-box;top: 0;bottom: 0;left: 50%;z-index: -1;}#sk-container-id-2 div.sk-parallel-item {display: flex;flex-direction: column;z-index: 1;position: relative;background-color: white;}#sk-container-id-2 div.sk-parallel-item:first-child::after {align-self: flex-end;width: 50%;}#sk-container-id-2 div.sk-parallel-item:last-child::after {align-self: flex-start;width: 50%;}#sk-container-id-2 div.sk-parallel-item:only-child::after {width: 0;}#sk-container-id-2 div.sk-dashed-wrapped {border: 1px dashed gray;margin: 0 0.4em 0.5em 0.4em;box-sizing: border-box;padding-bottom: 0.4em;background-color: white;}#sk-container-id-2 div.sk-label label {font-family: monospace;font-weight: bold;display: inline-block;line-height: 1.2em;}#sk-container-id-2 div.sk-label-container {text-align: center;}#sk-container-id-2 div.sk-container {/* jupyter's `normalize.less` sets `[hidden] { display: none; }` but bootstrap.min.css set `[hidden] { display: none !important; }` so we also need the `!important` here to be able to override the default hidden behavior on the sphinx rendered scikit-learn.org. See: https://github.com/scikit-learn/scikit-learn/issues/21755 */display: inline-block !important;position: relative;}#sk-container-id-2 div.sk-text-repr-fallback {display: none;}</style><div id=\"sk-container-id-2\" class=\"sk-top-container\"><div class=\"sk-text-repr-fallback\"><pre>DecisionTreeClassifier()</pre><b>In a Jupyter environment, please rerun this cell to show the HTML representation or trust the notebook. <br />On GitHub, the HTML representation is unable to render, please try loading this page with nbviewer.org.</b></div><div class=\"sk-container\" hidden><div class=\"sk-item\"><div class=\"sk-estimator sk-toggleable\"><input class=\"sk-toggleable__control sk-hidden--visually\" id=\"sk-estimator-id-2\" type=\"checkbox\" checked><label for=\"sk-estimator-id-2\" class=\"sk-toggleable__label sk-toggleable__label-arrow\">DecisionTreeClassifier</label><div class=\"sk-toggleable__content\"><pre>DecisionTreeClassifier()</pre></div></div></div></div></div>"
      ],
      "text/plain": [
       "DecisionTreeClassifier()"
      ]
     },
     "execution_count": 53,
     "metadata": {},
     "output_type": "execute_result"
    }
   ],
   "source": [
    "from sklearn.tree import DecisionTreeClassifier\n",
    "\n",
    "dtc = DecisionTreeClassifier()\n",
    "\n",
    "dtc.fit(x_train, x_test)"
   ]
  },
  {
   "cell_type": "code",
   "execution_count": 54,
   "id": "27606e31",
   "metadata": {},
   "outputs": [
    {
     "name": "stdout",
     "output_type": "stream",
     "text": [
      "train confusion matrix  \n",
      " [[52611    20]\n",
      " [    5 30937]]\n",
      "test confusion matrix \n",
      " [[21550   975]\n",
      " [ 1000 12292]]\n",
      "\n",
      "train accuracy \n",
      " 0.9997008603257033\n",
      "test accuracy \n",
      " 0.9448585867046375\n",
      "\n",
      "train classfication repot \n",
      "               precision    recall  f1-score   support\n",
      "\n",
      "           0       1.00      1.00      1.00     52631\n",
      "           1       1.00      1.00      1.00     30942\n",
      "\n",
      "    accuracy                           1.00     83573\n",
      "   macro avg       1.00      1.00      1.00     83573\n",
      "weighted avg       1.00      1.00      1.00     83573\n",
      "\n",
      "\n",
      "test classfication repot \n",
      "               precision    recall  f1-score   support\n",
      "\n",
      "           0       0.96      0.96      0.96     22525\n",
      "           1       0.93      0.92      0.93     13292\n",
      "\n",
      "    accuracy                           0.94     35817\n",
      "   macro avg       0.94      0.94      0.94     35817\n",
      "weighted avg       0.94      0.94      0.94     35817\n",
      "\n",
      "\n"
     ]
    }
   ],
   "source": [
    "dtc_train = dtc.predict(x_train)\n",
    "dtc_test = dtc.predict(y_train)\n",
    "print(\"train confusion matrix  \\n\", confusion_matrix(dtc_train , x_test))\n",
    "\n",
    "print(\"test confusion matrix \\n\", confusion_matrix(dtc_test , y_test))\n",
    "print()\n",
    "\n",
    "print(\"train accuracy \\n\", accuracy_score(dtc_train , x_test))\n",
    "print(\"test accuracy \\n\",accuracy_score(dtc_test , y_test))\n",
    "print() \n",
    "\n",
    "\n",
    "\n",
    "print(\"train classfication repot \\n\" , classification_report(dtc_train , x_test))\n",
    "\n",
    "print()\n",
    "\n",
    "\n",
    "\n",
    "\n",
    "print(\"test classfication repot \\n\" , classification_report(dtc_test , y_test))\n",
    "print()\n"
   ]
  },
  {
   "cell_type": "code",
   "execution_count": 55,
   "id": "1ff72cd3",
   "metadata": {},
   "outputs": [
    {
     "data": {
      "text/html": [
       "<div>\n",
       "<style scoped>\n",
       "    .dataframe tbody tr th:only-of-type {\n",
       "        vertical-align: middle;\n",
       "    }\n",
       "\n",
       "    .dataframe tbody tr th {\n",
       "        vertical-align: top;\n",
       "    }\n",
       "\n",
       "    .dataframe thead th {\n",
       "        text-align: right;\n",
       "    }\n",
       "</style>\n",
       "<table border=\"1\" class=\"dataframe\">\n",
       "  <thead>\n",
       "    <tr style=\"text-align: right;\">\n",
       "      <th></th>\n",
       "      <th>features</th>\n",
       "      <th>feature_importance</th>\n",
       "    </tr>\n",
       "  </thead>\n",
       "  <tbody>\n",
       "    <tr>\n",
       "      <th>0</th>\n",
       "      <td>lead_time</td>\n",
       "      <td>0.082077</td>\n",
       "    </tr>\n",
       "    <tr>\n",
       "      <th>1</th>\n",
       "      <td>arrival_date_year</td>\n",
       "      <td>0.009031</td>\n",
       "    </tr>\n",
       "    <tr>\n",
       "      <th>2</th>\n",
       "      <td>arrival_date_month</td>\n",
       "      <td>0.036436</td>\n",
       "    </tr>\n",
       "    <tr>\n",
       "      <th>3</th>\n",
       "      <td>arrival_date_week_number</td>\n",
       "      <td>0.196722</td>\n",
       "    </tr>\n",
       "    <tr>\n",
       "      <th>4</th>\n",
       "      <td>stays_in_weekend_nights</td>\n",
       "      <td>0.011626</td>\n",
       "    </tr>\n",
       "    <tr>\n",
       "      <th>5</th>\n",
       "      <td>children</td>\n",
       "      <td>0.002966</td>\n",
       "    </tr>\n",
       "    <tr>\n",
       "      <th>6</th>\n",
       "      <td>country</td>\n",
       "      <td>0.040509</td>\n",
       "    </tr>\n",
       "    <tr>\n",
       "      <th>7</th>\n",
       "      <td>agent</td>\n",
       "      <td>0.045886</td>\n",
       "    </tr>\n",
       "    <tr>\n",
       "      <th>8</th>\n",
       "      <td>adr</td>\n",
       "      <td>0.004030</td>\n",
       "    </tr>\n",
       "    <tr>\n",
       "      <th>9</th>\n",
       "      <td>required_car_parking_spaces</td>\n",
       "      <td>0.023206</td>\n",
       "    </tr>\n",
       "    <tr>\n",
       "      <th>10</th>\n",
       "      <td>reservation_status_day</td>\n",
       "      <td>0.083502</td>\n",
       "    </tr>\n",
       "    <tr>\n",
       "      <th>11</th>\n",
       "      <td>reservation_status_month</td>\n",
       "      <td>0.099635</td>\n",
       "    </tr>\n",
       "    <tr>\n",
       "      <th>12</th>\n",
       "      <td>reservation_status_year</td>\n",
       "      <td>0.014415</td>\n",
       "    </tr>\n",
       "    <tr>\n",
       "      <th>13</th>\n",
       "      <td>hotel_Resort Hotel</td>\n",
       "      <td>0.004406</td>\n",
       "    </tr>\n",
       "    <tr>\n",
       "      <th>14</th>\n",
       "      <td>meal_FB</td>\n",
       "      <td>0.000113</td>\n",
       "    </tr>\n",
       "    <tr>\n",
       "      <th>15</th>\n",
       "      <td>meal_HB</td>\n",
       "      <td>0.004948</td>\n",
       "    </tr>\n",
       "    <tr>\n",
       "      <th>16</th>\n",
       "      <td>meal_SC</td>\n",
       "      <td>0.002353</td>\n",
       "    </tr>\n",
       "    <tr>\n",
       "      <th>17</th>\n",
       "      <td>meal_Undefined</td>\n",
       "      <td>0.000987</td>\n",
       "    </tr>\n",
       "    <tr>\n",
       "      <th>18</th>\n",
       "      <td>market_segment_Complementary</td>\n",
       "      <td>0.000395</td>\n",
       "    </tr>\n",
       "    <tr>\n",
       "      <th>19</th>\n",
       "      <td>market_segment_Corporate</td>\n",
       "      <td>0.001416</td>\n",
       "    </tr>\n",
       "    <tr>\n",
       "      <th>20</th>\n",
       "      <td>market_segment_Direct</td>\n",
       "      <td>0.002761</td>\n",
       "    </tr>\n",
       "    <tr>\n",
       "      <th>21</th>\n",
       "      <td>market_segment_Groups</td>\n",
       "      <td>0.002583</td>\n",
       "    </tr>\n",
       "    <tr>\n",
       "      <th>22</th>\n",
       "      <td>market_segment_Offline TA/TO</td>\n",
       "      <td>0.001863</td>\n",
       "    </tr>\n",
       "    <tr>\n",
       "      <th>23</th>\n",
       "      <td>market_segment_Online TA</td>\n",
       "      <td>0.060330</td>\n",
       "    </tr>\n",
       "    <tr>\n",
       "      <th>24</th>\n",
       "      <td>market_segment_Undefined</td>\n",
       "      <td>0.000000</td>\n",
       "    </tr>\n",
       "    <tr>\n",
       "      <th>25</th>\n",
       "      <td>distribution_channel_Direct</td>\n",
       "      <td>0.001060</td>\n",
       "    </tr>\n",
       "    <tr>\n",
       "      <th>26</th>\n",
       "      <td>distribution_channel_GDS</td>\n",
       "      <td>0.000106</td>\n",
       "    </tr>\n",
       "    <tr>\n",
       "      <th>27</th>\n",
       "      <td>distribution_channel_TA/TO</td>\n",
       "      <td>0.000995</td>\n",
       "    </tr>\n",
       "    <tr>\n",
       "      <th>28</th>\n",
       "      <td>distribution_channel_Undefined</td>\n",
       "      <td>0.000114</td>\n",
       "    </tr>\n",
       "    <tr>\n",
       "      <th>29</th>\n",
       "      <td>deposit_type_Non Refund</td>\n",
       "      <td>0.233261</td>\n",
       "    </tr>\n",
       "    <tr>\n",
       "      <th>30</th>\n",
       "      <td>deposit_type_Refundable</td>\n",
       "      <td>0.000189</td>\n",
       "    </tr>\n",
       "    <tr>\n",
       "      <th>31</th>\n",
       "      <td>customer_type_Group</td>\n",
       "      <td>0.000298</td>\n",
       "    </tr>\n",
       "    <tr>\n",
       "      <th>32</th>\n",
       "      <td>customer_type_Transient</td>\n",
       "      <td>0.009917</td>\n",
       "    </tr>\n",
       "    <tr>\n",
       "      <th>33</th>\n",
       "      <td>customer_type_Transient-Party</td>\n",
       "      <td>0.002839</td>\n",
       "    </tr>\n",
       "    <tr>\n",
       "      <th>34</th>\n",
       "      <td>reserved_room_type_B</td>\n",
       "      <td>0.000611</td>\n",
       "    </tr>\n",
       "    <tr>\n",
       "      <th>35</th>\n",
       "      <td>reserved_room_type_C</td>\n",
       "      <td>0.000367</td>\n",
       "    </tr>\n",
       "    <tr>\n",
       "      <th>36</th>\n",
       "      <td>reserved_room_type_D</td>\n",
       "      <td>0.004484</td>\n",
       "    </tr>\n",
       "    <tr>\n",
       "      <th>37</th>\n",
       "      <td>reserved_room_type_E</td>\n",
       "      <td>0.001637</td>\n",
       "    </tr>\n",
       "    <tr>\n",
       "      <th>38</th>\n",
       "      <td>reserved_room_type_F</td>\n",
       "      <td>0.000961</td>\n",
       "    </tr>\n",
       "    <tr>\n",
       "      <th>39</th>\n",
       "      <td>reserved_room_type_G</td>\n",
       "      <td>0.000622</td>\n",
       "    </tr>\n",
       "    <tr>\n",
       "      <th>40</th>\n",
       "      <td>reserved_room_type_H</td>\n",
       "      <td>0.000208</td>\n",
       "    </tr>\n",
       "    <tr>\n",
       "      <th>41</th>\n",
       "      <td>reserved_room_type_L</td>\n",
       "      <td>0.000016</td>\n",
       "    </tr>\n",
       "    <tr>\n",
       "      <th>42</th>\n",
       "      <td>reserved_room_type_P</td>\n",
       "      <td>0.000430</td>\n",
       "    </tr>\n",
       "    <tr>\n",
       "      <th>43</th>\n",
       "      <td>assigned_room_type_B</td>\n",
       "      <td>0.000824</td>\n",
       "    </tr>\n",
       "    <tr>\n",
       "      <th>44</th>\n",
       "      <td>assigned_room_type_C</td>\n",
       "      <td>0.000756</td>\n",
       "    </tr>\n",
       "    <tr>\n",
       "      <th>45</th>\n",
       "      <td>assigned_room_type_D</td>\n",
       "      <td>0.003620</td>\n",
       "    </tr>\n",
       "    <tr>\n",
       "      <th>46</th>\n",
       "      <td>assigned_room_type_E</td>\n",
       "      <td>0.001909</td>\n",
       "    </tr>\n",
       "    <tr>\n",
       "      <th>47</th>\n",
       "      <td>assigned_room_type_F</td>\n",
       "      <td>0.001207</td>\n",
       "    </tr>\n",
       "    <tr>\n",
       "      <th>48</th>\n",
       "      <td>assigned_room_type_G</td>\n",
       "      <td>0.000739</td>\n",
       "    </tr>\n",
       "    <tr>\n",
       "      <th>49</th>\n",
       "      <td>assigned_room_type_H</td>\n",
       "      <td>0.000280</td>\n",
       "    </tr>\n",
       "    <tr>\n",
       "      <th>50</th>\n",
       "      <td>assigned_room_type_I</td>\n",
       "      <td>0.000152</td>\n",
       "    </tr>\n",
       "    <tr>\n",
       "      <th>51</th>\n",
       "      <td>assigned_room_type_K</td>\n",
       "      <td>0.000156</td>\n",
       "    </tr>\n",
       "    <tr>\n",
       "      <th>52</th>\n",
       "      <td>assigned_room_type_L</td>\n",
       "      <td>0.000045</td>\n",
       "    </tr>\n",
       "    <tr>\n",
       "      <th>53</th>\n",
       "      <td>assigned_room_type_P</td>\n",
       "      <td>0.000000</td>\n",
       "    </tr>\n",
       "  </tbody>\n",
       "</table>\n",
       "</div>"
      ],
      "text/plain": [
       "                          features  feature_importance\n",
       "0                        lead_time            0.082077\n",
       "1                arrival_date_year            0.009031\n",
       "2               arrival_date_month            0.036436\n",
       "3         arrival_date_week_number            0.196722\n",
       "4          stays_in_weekend_nights            0.011626\n",
       "5                         children            0.002966\n",
       "6                          country            0.040509\n",
       "7                            agent            0.045886\n",
       "8                              adr            0.004030\n",
       "9      required_car_parking_spaces            0.023206\n",
       "10          reservation_status_day            0.083502\n",
       "11        reservation_status_month            0.099635\n",
       "12         reservation_status_year            0.014415\n",
       "13              hotel_Resort Hotel            0.004406\n",
       "14                         meal_FB            0.000113\n",
       "15                         meal_HB            0.004948\n",
       "16                         meal_SC            0.002353\n",
       "17                  meal_Undefined            0.000987\n",
       "18    market_segment_Complementary            0.000395\n",
       "19        market_segment_Corporate            0.001416\n",
       "20           market_segment_Direct            0.002761\n",
       "21           market_segment_Groups            0.002583\n",
       "22    market_segment_Offline TA/TO            0.001863\n",
       "23        market_segment_Online TA            0.060330\n",
       "24        market_segment_Undefined            0.000000\n",
       "25     distribution_channel_Direct            0.001060\n",
       "26        distribution_channel_GDS            0.000106\n",
       "27      distribution_channel_TA/TO            0.000995\n",
       "28  distribution_channel_Undefined            0.000114\n",
       "29         deposit_type_Non Refund            0.233261\n",
       "30         deposit_type_Refundable            0.000189\n",
       "31             customer_type_Group            0.000298\n",
       "32         customer_type_Transient            0.009917\n",
       "33   customer_type_Transient-Party            0.002839\n",
       "34            reserved_room_type_B            0.000611\n",
       "35            reserved_room_type_C            0.000367\n",
       "36            reserved_room_type_D            0.004484\n",
       "37            reserved_room_type_E            0.001637\n",
       "38            reserved_room_type_F            0.000961\n",
       "39            reserved_room_type_G            0.000622\n",
       "40            reserved_room_type_H            0.000208\n",
       "41            reserved_room_type_L            0.000016\n",
       "42            reserved_room_type_P            0.000430\n",
       "43            assigned_room_type_B            0.000824\n",
       "44            assigned_room_type_C            0.000756\n",
       "45            assigned_room_type_D            0.003620\n",
       "46            assigned_room_type_E            0.001909\n",
       "47            assigned_room_type_F            0.001207\n",
       "48            assigned_room_type_G            0.000739\n",
       "49            assigned_room_type_H            0.000280\n",
       "50            assigned_room_type_I            0.000152\n",
       "51            assigned_room_type_K            0.000156\n",
       "52            assigned_room_type_L            0.000045\n",
       "53            assigned_room_type_P            0.000000"
      ]
     },
     "execution_count": 55,
     "metadata": {},
     "output_type": "execute_result"
    }
   ],
   "source": [
    "pd.DataFrame({\"features\" : x.columns , \"feature_importance\" :dtc.feature_importances_})"
   ]
  },
  {
   "cell_type": "markdown",
   "id": "e875f817",
   "metadata": {},
   "source": [
    "### Re-Training "
   ]
  },
  {
   "cell_type": "code",
   "execution_count": null,
   "id": "fa32b233",
   "metadata": {},
   "outputs": [],
   "source": [
    "unwanted_features = [\"reserved_room_type_B\",\n",
    "\"reserved_room_type_C\",\n",
    "\"reserved_room_type_D\",\n",
    "\"reserved_room_type_E\",\n",
    "\"reserved_room_type_F\",\n",
    "\"reserved_room_type_G\",\n",
    "\"reserved_room_type_H\",\n",
    "\"reserved_room_type_L\",\n",
    "\"reserved_room_type_P\",\n",
    "\"assigned_room_type_B\",\n",
    "\"assigned_room_type_C\",\n",
    "\"assigned_room_type_D\",\n",
    "\"assigned_room_type_E\",\n",
    "\"assigned_room_type_F\",\n",
    "\"assigned_room_type_G\",\n",
    "\"assigned_room_type_H\",\n",
    "\"assigned_room_type_I\",\n",
    "\"assigned_room_type_K\",\n",
    "\"assigned_room_type_L\",\n",
    "\"assigned_room_type_P\"]\n",
    "\n",
    "x.drop(unwanted_features , axis = 1 , inplace = True)"
   ]
  },
  {
   "cell_type": "code",
   "execution_count": null,
   "id": "e6f4b291",
   "metadata": {},
   "outputs": [],
   "source": [
    "from sklearn.linear_model import LogisticRegression\n",
    "\n",
    "lr = LogisticRegression(max_iter=1000)\n",
    "lr.fit(x_train , x_test)\n",
    "\n",
    "train_predict = lr.predict(x_train)\n",
    "test_predict = lr.predict(y_train)\n",
    "\n",
    "\n",
    "print(\"train confusion matrix  \\n\", confusion_matrix(train_predict , x_test))\n",
    "\n",
    "print(\"test confusion matrix \\n\", confusion_matrix(test_predict , y_test))\n",
    "print()\n",
    "\n",
    "print(\"train accuracy \\n\", accuracy_score(train_predict , x_test))\n",
    "print(\"test accuracy \\n\",accuracy_score(test_predict , y_test))\n",
    "print() \n",
    "\n",
    "\n",
    "\n",
    "print(\"train classfication repot \\n\" , classification_report(train_predict , x_test))\n",
    "\n",
    "\n",
    "print()\n",
    "\n",
    "\n",
    "\n",
    "\n",
    "print(\"test classfication repot \\n\" , classification_report(test_predict , y_test))\n",
    "print()\n"
   ]
  },
  {
   "cell_type": "code",
   "execution_count": null,
   "id": "5cc5fef4",
   "metadata": {},
   "outputs": [],
   "source": [
    "from sklearn.tree import DecisionTreeClassifier\n",
    "\n",
    "dtc = DecisionTreeClassifier()\n",
    "\n",
    "dtc.fit(x_train, x_test)\n",
    "\n",
    "\n",
    "dtc_train = dtc.predict(x_train)\n",
    "dtc_test = dtc.predict(y_train)\n",
    "print(\"train confusion matrix  \\n\", confusion_matrix(dtc_train , x_test))\n",
    "\n",
    "print(\"test confusion matrix \\n\", confusion_matrix(dtc_test , y_test))\n",
    "print()\n",
    "\n",
    "print(\"train accuracy \\n\", accuracy_score(dtc_train , x_test))\n",
    "print(\"test accuracy \\n\",accuracy_score(dtc_test , y_test))\n",
    "print() \n",
    "\n",
    "\n",
    "\n",
    "print(\"train classfication repot \\n\" , classification_report(dtc_train , x_test))\n",
    "\n",
    "print()\n",
    "\n",
    "\n",
    "\n",
    "\n",
    "print(\"test classfication repot \\n\" , classification_report(dtc_test , y_test))\n",
    "print()\n"
   ]
  },
  {
   "cell_type": "code",
   "execution_count": null,
   "id": "65bbd5b9",
   "metadata": {},
   "outputs": [],
   "source": []
  }
 ],
 "metadata": {
  "kernelspec": {
   "display_name": "Python 3 (ipykernel)",
   "language": "python",
   "name": "python3"
  },
  "language_info": {
   "codemirror_mode": {
    "name": "ipython",
    "version": 3
   },
   "file_extension": ".py",
   "mimetype": "text/x-python",
   "name": "python",
   "nbconvert_exporter": "python",
   "pygments_lexer": "ipython3",
   "version": "3.11.5"
  }
 },
 "nbformat": 4,
 "nbformat_minor": 5
}
